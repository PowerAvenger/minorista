{
 "cells": [
  {
   "cell_type": "markdown",
   "metadata": {},
   "source": [
    "# Telemindex"
   ]
  },
  {
   "cell_type": "markdown",
   "metadata": {},
   "source": [
    "## Importamos librerías"
   ]
  },
  {
   "cell_type": "code",
   "execution_count": 33,
   "metadata": {},
   "outputs": [],
   "source": [
    "import pandas as pd\n",
    "import plotly.express as px\n",
    "#from telemindex import mes_seleccionado"
   ]
  },
  {
   "cell_type": "markdown",
   "metadata": {},
   "source": [
    "## Importamos el fichero excel"
   ]
  },
  {
   "cell_type": "code",
   "execution_count": 6,
   "metadata": {},
   "outputs": [
    {
     "data": {
      "text/html": [
       "<div>\n",
       "<style scoped>\n",
       "    .dataframe tbody tr th:only-of-type {\n",
       "        vertical-align: middle;\n",
       "    }\n",
       "\n",
       "    .dataframe tbody tr th {\n",
       "        vertical-align: top;\n",
       "    }\n",
       "\n",
       "    .dataframe thead th {\n",
       "        text-align: right;\n",
       "    }\n",
       "</style>\n",
       "<table border=\"1\" class=\"dataframe\">\n",
       "  <thead>\n",
       "    <tr style=\"text-align: right;\">\n",
       "      <th></th>\n",
       "      <th>fecha</th>\n",
       "      <th>año</th>\n",
       "      <th>mes</th>\n",
       "      <th>mes_nombre</th>\n",
       "      <th>dia</th>\n",
       "      <th>dia_semana</th>\n",
       "      <th>hora</th>\n",
       "      <th>dh_6p</th>\n",
       "      <th>dh_3p</th>\n",
       "      <th>pmh</th>\n",
       "      <th>...</th>\n",
       "      <th>perd_2.0</th>\n",
       "      <th>perd_3.0</th>\n",
       "      <th>perd_6.1</th>\n",
       "      <th>pyc_2.0</th>\n",
       "      <th>pyc_3.0</th>\n",
       "      <th>pyc_6.1</th>\n",
       "      <th>precio_2.0</th>\n",
       "      <th>precio_3.0</th>\n",
       "      <th>precio_6.1</th>\n",
       "      <th>demanda_GWh</th>\n",
       "    </tr>\n",
       "  </thead>\n",
       "  <tbody>\n",
       "    <tr>\n",
       "      <th>0</th>\n",
       "      <td>2024-06-17</td>\n",
       "      <td>2024</td>\n",
       "      <td>6</td>\n",
       "      <td>junio</td>\n",
       "      <td>17</td>\n",
       "      <td>lunes</td>\n",
       "      <td>23</td>\n",
       "      <td>P4</td>\n",
       "      <td>P2</td>\n",
       "      <td>62.78</td>\n",
       "      <td>...</td>\n",
       "      <td>0.151326</td>\n",
       "      <td>0.153183</td>\n",
       "      <td>0.060345</td>\n",
       "      <td>27.963</td>\n",
       "      <td>10.389</td>\n",
       "      <td>8.037</td>\n",
       "      <td>101.759827</td>\n",
       "      <td>84.468707</td>\n",
       "      <td>75.969892</td>\n",
       "      <td>0.0</td>\n",
       "    </tr>\n",
       "    <tr>\n",
       "      <th>1</th>\n",
       "      <td>2024-06-17</td>\n",
       "      <td>2024</td>\n",
       "      <td>6</td>\n",
       "      <td>junio</td>\n",
       "      <td>17</td>\n",
       "      <td>lunes</td>\n",
       "      <td>22</td>\n",
       "      <td>P4</td>\n",
       "      <td>P2</td>\n",
       "      <td>91.27</td>\n",
       "      <td>...</td>\n",
       "      <td>0.153132</td>\n",
       "      <td>0.155011</td>\n",
       "      <td>0.061065</td>\n",
       "      <td>27.963</td>\n",
       "      <td>10.389</td>\n",
       "      <td>8.037</td>\n",
       "      <td>135.221110</td>\n",
       "      <td>117.986004</td>\n",
       "      <td>106.699218</td>\n",
       "      <td>0.0</td>\n",
       "    </tr>\n",
       "    <tr>\n",
       "      <th>2</th>\n",
       "      <td>2024-06-17</td>\n",
       "      <td>2024</td>\n",
       "      <td>6</td>\n",
       "      <td>junio</td>\n",
       "      <td>17</td>\n",
       "      <td>lunes</td>\n",
       "      <td>21</td>\n",
       "      <td>P3</td>\n",
       "      <td>P1</td>\n",
       "      <td>72.75</td>\n",
       "      <td>...</td>\n",
       "      <td>0.149457</td>\n",
       "      <td>0.147667</td>\n",
       "      <td>0.058172</td>\n",
       "      <td>76.974</td>\n",
       "      <td>17.361</td>\n",
       "      <td>12.716</td>\n",
       "      <td>163.193019</td>\n",
       "      <td>102.805076</td>\n",
       "      <td>91.260862</td>\n",
       "      <td>0.0</td>\n",
       "    </tr>\n",
       "    <tr>\n",
       "      <th>3</th>\n",
       "      <td>2024-06-17</td>\n",
       "      <td>2024</td>\n",
       "      <td>6</td>\n",
       "      <td>junio</td>\n",
       "      <td>17</td>\n",
       "      <td>lunes</td>\n",
       "      <td>20</td>\n",
       "      <td>P3</td>\n",
       "      <td>P1</td>\n",
       "      <td>46.38</td>\n",
       "      <td>...</td>\n",
       "      <td>0.151315</td>\n",
       "      <td>0.149503</td>\n",
       "      <td>0.058895</td>\n",
       "      <td>76.974</td>\n",
       "      <td>17.361</td>\n",
       "      <td>12.716</td>\n",
       "      <td>132.516849</td>\n",
       "      <td>72.174715</td>\n",
       "      <td>62.972649</td>\n",
       "      <td>0.0</td>\n",
       "    </tr>\n",
       "    <tr>\n",
       "      <th>4</th>\n",
       "      <td>2024-06-17</td>\n",
       "      <td>2024</td>\n",
       "      <td>6</td>\n",
       "      <td>junio</td>\n",
       "      <td>17</td>\n",
       "      <td>lunes</td>\n",
       "      <td>19</td>\n",
       "      <td>P3</td>\n",
       "      <td>P1</td>\n",
       "      <td>21.72</td>\n",
       "      <td>...</td>\n",
       "      <td>0.148824</td>\n",
       "      <td>0.147041</td>\n",
       "      <td>0.057925</td>\n",
       "      <td>76.974</td>\n",
       "      <td>17.361</td>\n",
       "      <td>12.716</td>\n",
       "      <td>103.641702</td>\n",
       "      <td>43.346994</td>\n",
       "      <td>36.446854</td>\n",
       "      <td>0.0</td>\n",
       "    </tr>\n",
       "    <tr>\n",
       "      <th>...</th>\n",
       "      <td>...</td>\n",
       "      <td>...</td>\n",
       "      <td>...</td>\n",
       "      <td>...</td>\n",
       "      <td>...</td>\n",
       "      <td>...</td>\n",
       "      <td>...</td>\n",
       "      <td>...</td>\n",
       "      <td>...</td>\n",
       "      <td>...</td>\n",
       "      <td>...</td>\n",
       "      <td>...</td>\n",
       "      <td>...</td>\n",
       "      <td>...</td>\n",
       "      <td>...</td>\n",
       "      <td>...</td>\n",
       "      <td>...</td>\n",
       "      <td>...</td>\n",
       "      <td>...</td>\n",
       "      <td>...</td>\n",
       "      <td>...</td>\n",
       "    </tr>\n",
       "    <tr>\n",
       "      <th>12816</th>\n",
       "      <td>2023-01-01</td>\n",
       "      <td>2023</td>\n",
       "      <td>1</td>\n",
       "      <td>enero</td>\n",
       "      <td>1</td>\n",
       "      <td>domingo</td>\n",
       "      <td>4</td>\n",
       "      <td>P6</td>\n",
       "      <td>P3</td>\n",
       "      <td>0.00</td>\n",
       "      <td>...</td>\n",
       "      <td>0.278267</td>\n",
       "      <td>0.278267</td>\n",
       "      <td>0.119037</td>\n",
       "      <td>3.175</td>\n",
       "      <td>2.370</td>\n",
       "      <td>1.426</td>\n",
       "      <td>52.464799</td>\n",
       "      <td>51.659799</td>\n",
       "      <td>44.575884</td>\n",
       "      <td>0.0</td>\n",
       "    </tr>\n",
       "    <tr>\n",
       "      <th>12817</th>\n",
       "      <td>2023-01-01</td>\n",
       "      <td>2023</td>\n",
       "      <td>1</td>\n",
       "      <td>enero</td>\n",
       "      <td>1</td>\n",
       "      <td>domingo</td>\n",
       "      <td>3</td>\n",
       "      <td>P6</td>\n",
       "      <td>P3</td>\n",
       "      <td>0.00</td>\n",
       "      <td>...</td>\n",
       "      <td>0.271627</td>\n",
       "      <td>0.271627</td>\n",
       "      <td>0.116196</td>\n",
       "      <td>3.175</td>\n",
       "      <td>2.370</td>\n",
       "      <td>1.426</td>\n",
       "      <td>49.962933</td>\n",
       "      <td>49.157933</td>\n",
       "      <td>42.495040</td>\n",
       "      <td>0.0</td>\n",
       "    </tr>\n",
       "    <tr>\n",
       "      <th>12818</th>\n",
       "      <td>2023-01-01</td>\n",
       "      <td>2023</td>\n",
       "      <td>1</td>\n",
       "      <td>enero</td>\n",
       "      <td>1</td>\n",
       "      <td>domingo</td>\n",
       "      <td>2</td>\n",
       "      <td>P6</td>\n",
       "      <td>P3</td>\n",
       "      <td>0.00</td>\n",
       "      <td>...</td>\n",
       "      <td>0.260780</td>\n",
       "      <td>0.260780</td>\n",
       "      <td>0.111556</td>\n",
       "      <td>3.175</td>\n",
       "      <td>2.370</td>\n",
       "      <td>1.426</td>\n",
       "      <td>49.615027</td>\n",
       "      <td>48.810027</td>\n",
       "      <td>42.369445</td>\n",
       "      <td>0.0</td>\n",
       "    </tr>\n",
       "    <tr>\n",
       "      <th>12819</th>\n",
       "      <td>2023-01-01</td>\n",
       "      <td>2023</td>\n",
       "      <td>1</td>\n",
       "      <td>enero</td>\n",
       "      <td>1</td>\n",
       "      <td>domingo</td>\n",
       "      <td>1</td>\n",
       "      <td>P6</td>\n",
       "      <td>P3</td>\n",
       "      <td>0.00</td>\n",
       "      <td>...</td>\n",
       "      <td>0.246510</td>\n",
       "      <td>0.246510</td>\n",
       "      <td>0.105451</td>\n",
       "      <td>3.175</td>\n",
       "      <td>2.370</td>\n",
       "      <td>1.426</td>\n",
       "      <td>34.805191</td>\n",
       "      <td>34.000191</td>\n",
       "      <td>29.476832</td>\n",
       "      <td>0.0</td>\n",
       "    </tr>\n",
       "    <tr>\n",
       "      <th>12820</th>\n",
       "      <td>2023-01-01</td>\n",
       "      <td>2023</td>\n",
       "      <td>1</td>\n",
       "      <td>enero</td>\n",
       "      <td>1</td>\n",
       "      <td>domingo</td>\n",
       "      <td>0</td>\n",
       "      <td>P6</td>\n",
       "      <td>P3</td>\n",
       "      <td>0.00</td>\n",
       "      <td>...</td>\n",
       "      <td>0.236678</td>\n",
       "      <td>0.236678</td>\n",
       "      <td>0.101246</td>\n",
       "      <td>3.175</td>\n",
       "      <td>2.370</td>\n",
       "      <td>1.426</td>\n",
       "      <td>33.576636</td>\n",
       "      <td>32.771636</td>\n",
       "      <td>28.498255</td>\n",
       "      <td>0.0</td>\n",
       "    </tr>\n",
       "  </tbody>\n",
       "</table>\n",
       "<p>12821 rows × 30 columns</p>\n",
       "</div>"
      ],
      "text/plain": [
       "           fecha   año  mes mes_nombre  dia dia_semana  hora dh_6p dh_3p  \\\n",
       "0     2024-06-17  2024    6      junio   17      lunes    23    P4    P2   \n",
       "1     2024-06-17  2024    6      junio   17      lunes    22    P4    P2   \n",
       "2     2024-06-17  2024    6      junio   17      lunes    21    P3    P1   \n",
       "3     2024-06-17  2024    6      junio   17      lunes    20    P3    P1   \n",
       "4     2024-06-17  2024    6      junio   17      lunes    19    P3    P1   \n",
       "...          ...   ...  ...        ...  ...        ...   ...   ...   ...   \n",
       "12816 2023-01-01  2023    1      enero    1    domingo     4    P6    P3   \n",
       "12817 2023-01-01  2023    1      enero    1    domingo     3    P6    P3   \n",
       "12818 2023-01-01  2023    1      enero    1    domingo     2    P6    P3   \n",
       "12819 2023-01-01  2023    1      enero    1    domingo     1    P6    P3   \n",
       "12820 2023-01-01  2023    1      enero    1    domingo     0    P6    P3   \n",
       "\n",
       "         pmh  ...  perd_2.0  perd_3.0  perd_6.1  pyc_2.0  pyc_3.0  pyc_6.1  \\\n",
       "0      62.78  ...  0.151326  0.153183  0.060345   27.963   10.389    8.037   \n",
       "1      91.27  ...  0.153132  0.155011  0.061065   27.963   10.389    8.037   \n",
       "2      72.75  ...  0.149457  0.147667  0.058172   76.974   17.361   12.716   \n",
       "3      46.38  ...  0.151315  0.149503  0.058895   76.974   17.361   12.716   \n",
       "4      21.72  ...  0.148824  0.147041  0.057925   76.974   17.361   12.716   \n",
       "...      ...  ...       ...       ...       ...      ...      ...      ...   \n",
       "12816   0.00  ...  0.278267  0.278267  0.119037    3.175    2.370    1.426   \n",
       "12817   0.00  ...  0.271627  0.271627  0.116196    3.175    2.370    1.426   \n",
       "12818   0.00  ...  0.260780  0.260780  0.111556    3.175    2.370    1.426   \n",
       "12819   0.00  ...  0.246510  0.246510  0.105451    3.175    2.370    1.426   \n",
       "12820   0.00  ...  0.236678  0.236678  0.101246    3.175    2.370    1.426   \n",
       "\n",
       "       precio_2.0  precio_3.0  precio_6.1  demanda_GWh  \n",
       "0      101.759827   84.468707   75.969892          0.0  \n",
       "1      135.221110  117.986004  106.699218          0.0  \n",
       "2      163.193019  102.805076   91.260862          0.0  \n",
       "3      132.516849   72.174715   62.972649          0.0  \n",
       "4      103.641702   43.346994   36.446854          0.0  \n",
       "...           ...         ...         ...          ...  \n",
       "12816   52.464799   51.659799   44.575884          0.0  \n",
       "12817   49.962933   49.157933   42.495040          0.0  \n",
       "12818   49.615027   48.810027   42.369445          0.0  \n",
       "12819   34.805191   34.000191   29.476832          0.0  \n",
       "12820   33.576636   32.771636   28.498255          0.0  \n",
       "\n",
       "[12821 rows x 30 columns]"
      ]
     },
     "execution_count": 6,
     "metadata": {},
     "output_type": "execute_result"
    }
   ],
   "source": [
    "df_in=pd.read_excel('telemindex_2023_2024.xlsx')\n",
    "df_in"
   ]
  },
  {
   "cell_type": "markdown",
   "metadata": {},
   "source": [
    "## Filtramos por año"
   ]
  },
  {
   "cell_type": "code",
   "execution_count": 52,
   "metadata": {},
   "outputs": [
    {
     "data": {
      "text/html": [
       "<div>\n",
       "<style scoped>\n",
       "    .dataframe tbody tr th:only-of-type {\n",
       "        vertical-align: middle;\n",
       "    }\n",
       "\n",
       "    .dataframe tbody tr th {\n",
       "        vertical-align: top;\n",
       "    }\n",
       "\n",
       "    .dataframe thead th {\n",
       "        text-align: right;\n",
       "    }\n",
       "</style>\n",
       "<table border=\"1\" class=\"dataframe\">\n",
       "  <thead>\n",
       "    <tr style=\"text-align: right;\">\n",
       "      <th></th>\n",
       "      <th>año</th>\n",
       "      <th>mes</th>\n",
       "      <th>mes_nombre</th>\n",
       "      <th>dia</th>\n",
       "      <th>dia_semana</th>\n",
       "      <th>hora</th>\n",
       "      <th>dh_6p</th>\n",
       "      <th>dh_3p</th>\n",
       "      <th>pmh</th>\n",
       "      <th>ssaa</th>\n",
       "      <th>...</th>\n",
       "      <th>perd_2.0</th>\n",
       "      <th>perd_3.0</th>\n",
       "      <th>perd_6.1</th>\n",
       "      <th>pyc_2.0</th>\n",
       "      <th>pyc_3.0</th>\n",
       "      <th>pyc_6.1</th>\n",
       "      <th>precio_2.0</th>\n",
       "      <th>precio_3.0</th>\n",
       "      <th>precio_6.1</th>\n",
       "      <th>demanda_GWh</th>\n",
       "    </tr>\n",
       "    <tr>\n",
       "      <th>fecha</th>\n",
       "      <th></th>\n",
       "      <th></th>\n",
       "      <th></th>\n",
       "      <th></th>\n",
       "      <th></th>\n",
       "      <th></th>\n",
       "      <th></th>\n",
       "      <th></th>\n",
       "      <th></th>\n",
       "      <th></th>\n",
       "      <th></th>\n",
       "      <th></th>\n",
       "      <th></th>\n",
       "      <th></th>\n",
       "      <th></th>\n",
       "      <th></th>\n",
       "      <th></th>\n",
       "      <th></th>\n",
       "      <th></th>\n",
       "      <th></th>\n",
       "      <th></th>\n",
       "    </tr>\n",
       "  </thead>\n",
       "  <tbody>\n",
       "    <tr>\n",
       "      <th>2024-06-17</th>\n",
       "      <td>2024</td>\n",
       "      <td>6</td>\n",
       "      <td>junio</td>\n",
       "      <td>17</td>\n",
       "      <td>lunes</td>\n",
       "      <td>23</td>\n",
       "      <td>P4</td>\n",
       "      <td>P2</td>\n",
       "      <td>62.78</td>\n",
       "      <td>0.00</td>\n",
       "      <td>...</td>\n",
       "      <td>0.151326</td>\n",
       "      <td>0.153183</td>\n",
       "      <td>0.060345</td>\n",
       "      <td>27.963</td>\n",
       "      <td>10.389</td>\n",
       "      <td>8.037</td>\n",
       "      <td>101.759827</td>\n",
       "      <td>84.468707</td>\n",
       "      <td>75.969892</td>\n",
       "      <td>0.00</td>\n",
       "    </tr>\n",
       "    <tr>\n",
       "      <th>2024-06-17</th>\n",
       "      <td>2024</td>\n",
       "      <td>6</td>\n",
       "      <td>junio</td>\n",
       "      <td>17</td>\n",
       "      <td>lunes</td>\n",
       "      <td>22</td>\n",
       "      <td>P4</td>\n",
       "      <td>P2</td>\n",
       "      <td>91.27</td>\n",
       "      <td>0.00</td>\n",
       "      <td>...</td>\n",
       "      <td>0.153132</td>\n",
       "      <td>0.155011</td>\n",
       "      <td>0.061065</td>\n",
       "      <td>27.963</td>\n",
       "      <td>10.389</td>\n",
       "      <td>8.037</td>\n",
       "      <td>135.221110</td>\n",
       "      <td>117.986004</td>\n",
       "      <td>106.699218</td>\n",
       "      <td>0.00</td>\n",
       "    </tr>\n",
       "    <tr>\n",
       "      <th>2024-06-17</th>\n",
       "      <td>2024</td>\n",
       "      <td>6</td>\n",
       "      <td>junio</td>\n",
       "      <td>17</td>\n",
       "      <td>lunes</td>\n",
       "      <td>21</td>\n",
       "      <td>P3</td>\n",
       "      <td>P1</td>\n",
       "      <td>72.75</td>\n",
       "      <td>0.00</td>\n",
       "      <td>...</td>\n",
       "      <td>0.149457</td>\n",
       "      <td>0.147667</td>\n",
       "      <td>0.058172</td>\n",
       "      <td>76.974</td>\n",
       "      <td>17.361</td>\n",
       "      <td>12.716</td>\n",
       "      <td>163.193019</td>\n",
       "      <td>102.805076</td>\n",
       "      <td>91.260862</td>\n",
       "      <td>0.00</td>\n",
       "    </tr>\n",
       "    <tr>\n",
       "      <th>2024-06-17</th>\n",
       "      <td>2024</td>\n",
       "      <td>6</td>\n",
       "      <td>junio</td>\n",
       "      <td>17</td>\n",
       "      <td>lunes</td>\n",
       "      <td>20</td>\n",
       "      <td>P3</td>\n",
       "      <td>P1</td>\n",
       "      <td>46.38</td>\n",
       "      <td>0.00</td>\n",
       "      <td>...</td>\n",
       "      <td>0.151315</td>\n",
       "      <td>0.149503</td>\n",
       "      <td>0.058895</td>\n",
       "      <td>76.974</td>\n",
       "      <td>17.361</td>\n",
       "      <td>12.716</td>\n",
       "      <td>132.516849</td>\n",
       "      <td>72.174715</td>\n",
       "      <td>62.972649</td>\n",
       "      <td>0.00</td>\n",
       "    </tr>\n",
       "    <tr>\n",
       "      <th>2024-06-17</th>\n",
       "      <td>2024</td>\n",
       "      <td>6</td>\n",
       "      <td>junio</td>\n",
       "      <td>17</td>\n",
       "      <td>lunes</td>\n",
       "      <td>19</td>\n",
       "      <td>P3</td>\n",
       "      <td>P1</td>\n",
       "      <td>21.72</td>\n",
       "      <td>0.00</td>\n",
       "      <td>...</td>\n",
       "      <td>0.148824</td>\n",
       "      <td>0.147041</td>\n",
       "      <td>0.057925</td>\n",
       "      <td>76.974</td>\n",
       "      <td>17.361</td>\n",
       "      <td>12.716</td>\n",
       "      <td>103.641702</td>\n",
       "      <td>43.346994</td>\n",
       "      <td>36.446854</td>\n",
       "      <td>0.00</td>\n",
       "    </tr>\n",
       "    <tr>\n",
       "      <th>...</th>\n",
       "      <td>...</td>\n",
       "      <td>...</td>\n",
       "      <td>...</td>\n",
       "      <td>...</td>\n",
       "      <td>...</td>\n",
       "      <td>...</td>\n",
       "      <td>...</td>\n",
       "      <td>...</td>\n",
       "      <td>...</td>\n",
       "      <td>...</td>\n",
       "      <td>...</td>\n",
       "      <td>...</td>\n",
       "      <td>...</td>\n",
       "      <td>...</td>\n",
       "      <td>...</td>\n",
       "      <td>...</td>\n",
       "      <td>...</td>\n",
       "      <td>...</td>\n",
       "      <td>...</td>\n",
       "      <td>...</td>\n",
       "      <td>...</td>\n",
       "    </tr>\n",
       "    <tr>\n",
       "      <th>2024-01-01</th>\n",
       "      <td>2024</td>\n",
       "      <td>1</td>\n",
       "      <td>enero</td>\n",
       "      <td>1</td>\n",
       "      <td>lunes</td>\n",
       "      <td>4</td>\n",
       "      <td>P6</td>\n",
       "      <td>P3</td>\n",
       "      <td>42.50</td>\n",
       "      <td>22.69</td>\n",
       "      <td>...</td>\n",
       "      <td>0.276025</td>\n",
       "      <td>0.276025</td>\n",
       "      <td>0.118077</td>\n",
       "      <td>2.752</td>\n",
       "      <td>2.192</td>\n",
       "      <td>1.276</td>\n",
       "      <td>87.468741</td>\n",
       "      <td>86.908741</td>\n",
       "      <td>75.506430</td>\n",
       "      <td>18.14</td>\n",
       "    </tr>\n",
       "    <tr>\n",
       "      <th>2024-01-01</th>\n",
       "      <td>2024</td>\n",
       "      <td>1</td>\n",
       "      <td>enero</td>\n",
       "      <td>1</td>\n",
       "      <td>lunes</td>\n",
       "      <td>3</td>\n",
       "      <td>P6</td>\n",
       "      <td>P3</td>\n",
       "      <td>43.50</td>\n",
       "      <td>20.86</td>\n",
       "      <td>...</td>\n",
       "      <td>0.268402</td>\n",
       "      <td>0.268402</td>\n",
       "      <td>0.114816</td>\n",
       "      <td>2.752</td>\n",
       "      <td>2.192</td>\n",
       "      <td>1.276</td>\n",
       "      <td>85.894076</td>\n",
       "      <td>85.334076</td>\n",
       "      <td>74.350755</td>\n",
       "      <td>18.87</td>\n",
       "    </tr>\n",
       "    <tr>\n",
       "      <th>2024-01-01</th>\n",
       "      <td>2024</td>\n",
       "      <td>1</td>\n",
       "      <td>enero</td>\n",
       "      <td>1</td>\n",
       "      <td>lunes</td>\n",
       "      <td>2</td>\n",
       "      <td>P6</td>\n",
       "      <td>P3</td>\n",
       "      <td>47.50</td>\n",
       "      <td>19.05</td>\n",
       "      <td>...</td>\n",
       "      <td>0.257177</td>\n",
       "      <td>0.257177</td>\n",
       "      <td>0.110015</td>\n",
       "      <td>2.752</td>\n",
       "      <td>2.192</td>\n",
       "      <td>1.276</td>\n",
       "      <td>87.952820</td>\n",
       "      <td>87.392820</td>\n",
       "      <td>76.503405</td>\n",
       "      <td>20.03</td>\n",
       "    </tr>\n",
       "    <tr>\n",
       "      <th>2024-01-01</th>\n",
       "      <td>2024</td>\n",
       "      <td>1</td>\n",
       "      <td>enero</td>\n",
       "      <td>1</td>\n",
       "      <td>lunes</td>\n",
       "      <td>1</td>\n",
       "      <td>P6</td>\n",
       "      <td>P3</td>\n",
       "      <td>50.09</td>\n",
       "      <td>20.75</td>\n",
       "      <td>...</td>\n",
       "      <td>0.243274</td>\n",
       "      <td>0.243274</td>\n",
       "      <td>0.104067</td>\n",
       "      <td>2.752</td>\n",
       "      <td>2.192</td>\n",
       "      <td>1.276</td>\n",
       "      <td>92.424227</td>\n",
       "      <td>91.864227</td>\n",
       "      <td>80.907829</td>\n",
       "      <td>21.20</td>\n",
       "    </tr>\n",
       "    <tr>\n",
       "      <th>2024-01-01</th>\n",
       "      <td>2024</td>\n",
       "      <td>1</td>\n",
       "      <td>enero</td>\n",
       "      <td>1</td>\n",
       "      <td>lunes</td>\n",
       "      <td>0</td>\n",
       "      <td>P6</td>\n",
       "      <td>P3</td>\n",
       "      <td>63.33</td>\n",
       "      <td>15.41</td>\n",
       "      <td>...</td>\n",
       "      <td>0.237544</td>\n",
       "      <td>0.237544</td>\n",
       "      <td>0.101616</td>\n",
       "      <td>2.752</td>\n",
       "      <td>2.192</td>\n",
       "      <td>1.276</td>\n",
       "      <td>101.934237</td>\n",
       "      <td>101.374237</td>\n",
       "      <td>89.564364</td>\n",
       "      <td>21.86</td>\n",
       "    </tr>\n",
       "  </tbody>\n",
       "</table>\n",
       "<p>4055 rows × 29 columns</p>\n",
       "</div>"
      ],
      "text/plain": [
       "             año  mes mes_nombre  dia dia_semana  hora dh_6p dh_3p    pmh  \\\n",
       "fecha                                                                       \n",
       "2024-06-17  2024    6      junio   17      lunes    23    P4    P2  62.78   \n",
       "2024-06-17  2024    6      junio   17      lunes    22    P4    P2  91.27   \n",
       "2024-06-17  2024    6      junio   17      lunes    21    P3    P1  72.75   \n",
       "2024-06-17  2024    6      junio   17      lunes    20    P3    P1  46.38   \n",
       "2024-06-17  2024    6      junio   17      lunes    19    P3    P1  21.72   \n",
       "...          ...  ...        ...  ...        ...   ...   ...   ...    ...   \n",
       "2024-01-01  2024    1      enero    1      lunes     4    P6    P3  42.50   \n",
       "2024-01-01  2024    1      enero    1      lunes     3    P6    P3  43.50   \n",
       "2024-01-01  2024    1      enero    1      lunes     2    P6    P3  47.50   \n",
       "2024-01-01  2024    1      enero    1      lunes     1    P6    P3  50.09   \n",
       "2024-01-01  2024    1      enero    1      lunes     0    P6    P3  63.33   \n",
       "\n",
       "             ssaa  ...  perd_2.0  perd_3.0  perd_6.1  pyc_2.0  pyc_3.0  \\\n",
       "fecha              ...                                                   \n",
       "2024-06-17   0.00  ...  0.151326  0.153183  0.060345   27.963   10.389   \n",
       "2024-06-17   0.00  ...  0.153132  0.155011  0.061065   27.963   10.389   \n",
       "2024-06-17   0.00  ...  0.149457  0.147667  0.058172   76.974   17.361   \n",
       "2024-06-17   0.00  ...  0.151315  0.149503  0.058895   76.974   17.361   \n",
       "2024-06-17   0.00  ...  0.148824  0.147041  0.057925   76.974   17.361   \n",
       "...           ...  ...       ...       ...       ...      ...      ...   \n",
       "2024-01-01  22.69  ...  0.276025  0.276025  0.118077    2.752    2.192   \n",
       "2024-01-01  20.86  ...  0.268402  0.268402  0.114816    2.752    2.192   \n",
       "2024-01-01  19.05  ...  0.257177  0.257177  0.110015    2.752    2.192   \n",
       "2024-01-01  20.75  ...  0.243274  0.243274  0.104067    2.752    2.192   \n",
       "2024-01-01  15.41  ...  0.237544  0.237544  0.101616    2.752    2.192   \n",
       "\n",
       "            pyc_6.1  precio_2.0  precio_3.0  precio_6.1  demanda_GWh  \n",
       "fecha                                                                 \n",
       "2024-06-17    8.037  101.759827   84.468707   75.969892         0.00  \n",
       "2024-06-17    8.037  135.221110  117.986004  106.699218         0.00  \n",
       "2024-06-17   12.716  163.193019  102.805076   91.260862         0.00  \n",
       "2024-06-17   12.716  132.516849   72.174715   62.972649         0.00  \n",
       "2024-06-17   12.716  103.641702   43.346994   36.446854         0.00  \n",
       "...             ...         ...         ...         ...          ...  \n",
       "2024-01-01    1.276   87.468741   86.908741   75.506430        18.14  \n",
       "2024-01-01    1.276   85.894076   85.334076   74.350755        18.87  \n",
       "2024-01-01    1.276   87.952820   87.392820   76.503405        20.03  \n",
       "2024-01-01    1.276   92.424227   91.864227   80.907829        21.20  \n",
       "2024-01-01    1.276  101.934237  101.374237   89.564364        21.86  \n",
       "\n",
       "[4055 rows x 29 columns]"
      ]
     },
     "execution_count": 52,
     "metadata": {},
     "output_type": "execute_result"
    }
   ],
   "source": [
    "año=2024 #con cambiar este valor ya sobra para filtrar la tabla\n",
    "filtro_año=df_in['año']==año\n",
    "dff =df_in[filtro_año].set_index('fecha')\n",
    "dff "
   ]
  },
  {
   "cell_type": "code",
   "execution_count": 63,
   "metadata": {},
   "outputs": [
    {
     "data": {
      "text/plain": [
       "'17-06-2024'"
      ]
     },
     "execution_count": 63,
     "metadata": {},
     "output_type": "execute_result"
    }
   ],
   "source": [
    "max_reg=dff.index.max().strftime('%d-%m-%Y')\n",
    "max_reg\n"
   ]
  },
  {
   "cell_type": "code",
   "execution_count": 29,
   "metadata": {},
   "outputs": [
    {
     "data": {
      "text/plain": [
       "['junio', 'mayo', 'abril', 'marzo', 'febrero', 'enero']"
      ]
     },
     "execution_count": 29,
     "metadata": {},
     "output_type": "execute_result"
    }
   ],
   "source": [
    "lista_meses=dff['mes_nombre'].unique().tolist()\n",
    "lista_meses"
   ]
  },
  {
   "cell_type": "markdown",
   "metadata": {},
   "source": [
    "## Parte 1. No se usa en streamlit"
   ]
  },
  {
   "cell_type": "markdown",
   "metadata": {},
   "source": [
    "### Hacemos la media de los precios"
   ]
  },
  {
   "cell_type": "code",
   "execution_count": 8,
   "metadata": {},
   "outputs": [],
   "source": [
    "# Hay que hacerlo para cada uno de los 3 precios"
   ]
  },
  {
   "cell_type": "code",
   "execution_count": 9,
   "metadata": {},
   "outputs": [
    {
     "data": {
      "text/html": [
       "<div>\n",
       "<style scoped>\n",
       "    .dataframe tbody tr th:only-of-type {\n",
       "        vertical-align: middle;\n",
       "    }\n",
       "\n",
       "    .dataframe tbody tr th {\n",
       "        vertical-align: top;\n",
       "    }\n",
       "\n",
       "    .dataframe thead th {\n",
       "        text-align: right;\n",
       "    }\n",
       "</style>\n",
       "<table border=\"1\" class=\"dataframe\">\n",
       "  <thead>\n",
       "    <tr style=\"text-align: right;\">\n",
       "      <th></th>\n",
       "      <th>mes</th>\n",
       "      <th>dia</th>\n",
       "      <th>precio_2.0</th>\n",
       "    </tr>\n",
       "  </thead>\n",
       "  <tbody>\n",
       "    <tr>\n",
       "      <th>0</th>\n",
       "      <td>1</td>\n",
       "      <td>1</td>\n",
       "      <td>68.436641</td>\n",
       "    </tr>\n",
       "    <tr>\n",
       "      <th>1</th>\n",
       "      <td>1</td>\n",
       "      <td>2</td>\n",
       "      <td>99.827896</td>\n",
       "    </tr>\n",
       "    <tr>\n",
       "      <th>2</th>\n",
       "      <td>1</td>\n",
       "      <td>3</td>\n",
       "      <td>116.581679</td>\n",
       "    </tr>\n",
       "    <tr>\n",
       "      <th>3</th>\n",
       "      <td>1</td>\n",
       "      <td>4</td>\n",
       "      <td>159.517121</td>\n",
       "    </tr>\n",
       "    <tr>\n",
       "      <th>4</th>\n",
       "      <td>1</td>\n",
       "      <td>5</td>\n",
       "      <td>130.613379</td>\n",
       "    </tr>\n",
       "    <tr>\n",
       "      <th>...</th>\n",
       "      <td>...</td>\n",
       "      <td>...</td>\n",
       "      <td>...</td>\n",
       "    </tr>\n",
       "    <tr>\n",
       "      <th>164</th>\n",
       "      <td>6</td>\n",
       "      <td>13</td>\n",
       "      <td>132.556017</td>\n",
       "    </tr>\n",
       "    <tr>\n",
       "      <th>165</th>\n",
       "      <td>6</td>\n",
       "      <td>14</td>\n",
       "      <td>102.373615</td>\n",
       "    </tr>\n",
       "    <tr>\n",
       "      <th>166</th>\n",
       "      <td>6</td>\n",
       "      <td>15</td>\n",
       "      <td>44.861316</td>\n",
       "    </tr>\n",
       "    <tr>\n",
       "      <th>167</th>\n",
       "      <td>6</td>\n",
       "      <td>16</td>\n",
       "      <td>39.191002</td>\n",
       "    </tr>\n",
       "    <tr>\n",
       "      <th>168</th>\n",
       "      <td>6</td>\n",
       "      <td>17</td>\n",
       "      <td>70.977806</td>\n",
       "    </tr>\n",
       "  </tbody>\n",
       "</table>\n",
       "<p>169 rows × 3 columns</p>\n",
       "</div>"
      ],
      "text/plain": [
       "     mes  dia  precio_2.0\n",
       "0      1    1   68.436641\n",
       "1      1    2   99.827896\n",
       "2      1    3  116.581679\n",
       "3      1    4  159.517121\n",
       "4      1    5  130.613379\n",
       "..   ...  ...         ...\n",
       "164    6   13  132.556017\n",
       "165    6   14  102.373615\n",
       "166    6   15   44.861316\n",
       "167    6   16   39.191002\n",
       "168    6   17   70.977806\n",
       "\n",
       "[169 rows x 3 columns]"
      ]
     },
     "execution_count": 9,
     "metadata": {},
     "output_type": "execute_result"
    }
   ],
   "source": [
    "dff_20=dff.groupby(['mes','dia'])['precio_2.0'].mean().reset_index()\n",
    "dff_20"
   ]
  },
  {
   "cell_type": "code",
   "execution_count": 10,
   "metadata": {},
   "outputs": [
    {
     "data": {
      "text/html": [
       "<div>\n",
       "<style scoped>\n",
       "    .dataframe tbody tr th:only-of-type {\n",
       "        vertical-align: middle;\n",
       "    }\n",
       "\n",
       "    .dataframe tbody tr th {\n",
       "        vertical-align: top;\n",
       "    }\n",
       "\n",
       "    .dataframe thead th {\n",
       "        text-align: right;\n",
       "    }\n",
       "</style>\n",
       "<table border=\"1\" class=\"dataframe\">\n",
       "  <thead>\n",
       "    <tr style=\"text-align: right;\">\n",
       "      <th></th>\n",
       "      <th>mes</th>\n",
       "      <th>dia</th>\n",
       "      <th>precio_3.0</th>\n",
       "    </tr>\n",
       "  </thead>\n",
       "  <tbody>\n",
       "    <tr>\n",
       "      <th>0</th>\n",
       "      <td>1</td>\n",
       "      <td>1</td>\n",
       "      <td>67.876641</td>\n",
       "    </tr>\n",
       "    <tr>\n",
       "      <th>1</th>\n",
       "      <td>1</td>\n",
       "      <td>2</td>\n",
       "      <td>92.411545</td>\n",
       "    </tr>\n",
       "    <tr>\n",
       "      <th>2</th>\n",
       "      <td>1</td>\n",
       "      <td>3</td>\n",
       "      <td>109.287908</td>\n",
       "    </tr>\n",
       "    <tr>\n",
       "      <th>3</th>\n",
       "      <td>1</td>\n",
       "      <td>4</td>\n",
       "      <td>152.328309</td>\n",
       "    </tr>\n",
       "    <tr>\n",
       "      <th>4</th>\n",
       "      <td>1</td>\n",
       "      <td>5</td>\n",
       "      <td>123.262622</td>\n",
       "    </tr>\n",
       "    <tr>\n",
       "      <th>...</th>\n",
       "      <td>...</td>\n",
       "      <td>...</td>\n",
       "      <td>...</td>\n",
       "    </tr>\n",
       "    <tr>\n",
       "      <th>164</th>\n",
       "      <td>6</td>\n",
       "      <td>13</td>\n",
       "      <td>106.778495</td>\n",
       "    </tr>\n",
       "    <tr>\n",
       "      <th>165</th>\n",
       "      <td>6</td>\n",
       "      <td>14</td>\n",
       "      <td>76.600579</td>\n",
       "    </tr>\n",
       "    <tr>\n",
       "      <th>166</th>\n",
       "      <td>6</td>\n",
       "      <td>15</td>\n",
       "      <td>44.301316</td>\n",
       "    </tr>\n",
       "    <tr>\n",
       "      <th>167</th>\n",
       "      <td>6</td>\n",
       "      <td>16</td>\n",
       "      <td>38.631002</td>\n",
       "    </tr>\n",
       "    <tr>\n",
       "      <th>168</th>\n",
       "      <td>6</td>\n",
       "      <td>17</td>\n",
       "      <td>45.203116</td>\n",
       "    </tr>\n",
       "  </tbody>\n",
       "</table>\n",
       "<p>169 rows × 3 columns</p>\n",
       "</div>"
      ],
      "text/plain": [
       "     mes  dia  precio_3.0\n",
       "0      1    1   67.876641\n",
       "1      1    2   92.411545\n",
       "2      1    3  109.287908\n",
       "3      1    4  152.328309\n",
       "4      1    5  123.262622\n",
       "..   ...  ...         ...\n",
       "164    6   13  106.778495\n",
       "165    6   14   76.600579\n",
       "166    6   15   44.301316\n",
       "167    6   16   38.631002\n",
       "168    6   17   45.203116\n",
       "\n",
       "[169 rows x 3 columns]"
      ]
     },
     "execution_count": 10,
     "metadata": {},
     "output_type": "execute_result"
    }
   ],
   "source": [
    "dff_30=dff.groupby(['mes','dia'])['precio_3.0'].mean().reset_index()\n",
    "dff_30"
   ]
  },
  {
   "cell_type": "code",
   "execution_count": 11,
   "metadata": {},
   "outputs": [
    {
     "data": {
      "text/html": [
       "<div>\n",
       "<style scoped>\n",
       "    .dataframe tbody tr th:only-of-type {\n",
       "        vertical-align: middle;\n",
       "    }\n",
       "\n",
       "    .dataframe tbody tr th {\n",
       "        vertical-align: top;\n",
       "    }\n",
       "\n",
       "    .dataframe thead th {\n",
       "        text-align: right;\n",
       "    }\n",
       "</style>\n",
       "<table border=\"1\" class=\"dataframe\">\n",
       "  <thead>\n",
       "    <tr style=\"text-align: right;\">\n",
       "      <th></th>\n",
       "      <th>mes</th>\n",
       "      <th>dia</th>\n",
       "      <th>precio_6.1</th>\n",
       "    </tr>\n",
       "  </thead>\n",
       "  <tbody>\n",
       "    <tr>\n",
       "      <th>0</th>\n",
       "      <td>1</td>\n",
       "      <td>1</td>\n",
       "      <td>59.591323</td>\n",
       "    </tr>\n",
       "    <tr>\n",
       "      <th>1</th>\n",
       "      <td>1</td>\n",
       "      <td>2</td>\n",
       "      <td>77.232139</td>\n",
       "    </tr>\n",
       "    <tr>\n",
       "      <th>2</th>\n",
       "      <td>1</td>\n",
       "      <td>3</td>\n",
       "      <td>92.652752</td>\n",
       "    </tr>\n",
       "    <tr>\n",
       "      <th>3</th>\n",
       "      <td>1</td>\n",
       "      <td>4</td>\n",
       "      <td>130.819146</td>\n",
       "    </tr>\n",
       "    <tr>\n",
       "      <th>4</th>\n",
       "      <td>1</td>\n",
       "      <td>5</td>\n",
       "      <td>104.742556</td>\n",
       "    </tr>\n",
       "    <tr>\n",
       "      <th>...</th>\n",
       "      <td>...</td>\n",
       "      <td>...</td>\n",
       "      <td>...</td>\n",
       "    </tr>\n",
       "    <tr>\n",
       "      <th>164</th>\n",
       "      <td>6</td>\n",
       "      <td>13</td>\n",
       "      <td>96.108115</td>\n",
       "    </tr>\n",
       "    <tr>\n",
       "      <th>165</th>\n",
       "      <td>6</td>\n",
       "      <td>14</td>\n",
       "      <td>68.332995</td>\n",
       "    </tr>\n",
       "    <tr>\n",
       "      <th>166</th>\n",
       "      <td>6</td>\n",
       "      <td>15</td>\n",
       "      <td>39.916255</td>\n",
       "    </tr>\n",
       "    <tr>\n",
       "      <th>167</th>\n",
       "      <td>6</td>\n",
       "      <td>16</td>\n",
       "      <td>34.653143</td>\n",
       "    </tr>\n",
       "    <tr>\n",
       "      <th>168</th>\n",
       "      <td>6</td>\n",
       "      <td>17</td>\n",
       "      <td>39.512756</td>\n",
       "    </tr>\n",
       "  </tbody>\n",
       "</table>\n",
       "<p>169 rows × 3 columns</p>\n",
       "</div>"
      ],
      "text/plain": [
       "     mes  dia  precio_6.1\n",
       "0      1    1   59.591323\n",
       "1      1    2   77.232139\n",
       "2      1    3   92.652752\n",
       "3      1    4  130.819146\n",
       "4      1    5  104.742556\n",
       "..   ...  ...         ...\n",
       "164    6   13   96.108115\n",
       "165    6   14   68.332995\n",
       "166    6   15   39.916255\n",
       "167    6   16   34.653143\n",
       "168    6   17   39.512756\n",
       "\n",
       "[169 rows x 3 columns]"
      ]
     },
     "execution_count": 11,
     "metadata": {},
     "output_type": "execute_result"
    }
   ],
   "source": [
    "dff_61=dff.groupby(['mes','dia'])['precio_6.1'].mean().reset_index()\n",
    "dff_61"
   ]
  },
  {
   "cell_type": "markdown",
   "metadata": {},
   "source": [
    "### Unimos las tres tablas"
   ]
  },
  {
   "cell_type": "code",
   "execution_count": 12,
   "metadata": {},
   "outputs": [
    {
     "data": {
      "text/html": [
       "<div>\n",
       "<style scoped>\n",
       "    .dataframe tbody tr th:only-of-type {\n",
       "        vertical-align: middle;\n",
       "    }\n",
       "\n",
       "    .dataframe tbody tr th {\n",
       "        vertical-align: top;\n",
       "    }\n",
       "\n",
       "    .dataframe thead th {\n",
       "        text-align: right;\n",
       "    }\n",
       "</style>\n",
       "<table border=\"1\" class=\"dataframe\">\n",
       "  <thead>\n",
       "    <tr style=\"text-align: right;\">\n",
       "      <th></th>\n",
       "      <th>mes</th>\n",
       "      <th>dia</th>\n",
       "      <th>precio_2.0</th>\n",
       "      <th>mes</th>\n",
       "      <th>dia</th>\n",
       "      <th>precio_3.0</th>\n",
       "      <th>mes</th>\n",
       "      <th>dia</th>\n",
       "      <th>precio_6.1</th>\n",
       "    </tr>\n",
       "  </thead>\n",
       "  <tbody>\n",
       "    <tr>\n",
       "      <th>0</th>\n",
       "      <td>1</td>\n",
       "      <td>1</td>\n",
       "      <td>68.436641</td>\n",
       "      <td>1</td>\n",
       "      <td>1</td>\n",
       "      <td>67.876641</td>\n",
       "      <td>1</td>\n",
       "      <td>1</td>\n",
       "      <td>59.591323</td>\n",
       "    </tr>\n",
       "    <tr>\n",
       "      <th>1</th>\n",
       "      <td>1</td>\n",
       "      <td>2</td>\n",
       "      <td>99.827896</td>\n",
       "      <td>1</td>\n",
       "      <td>2</td>\n",
       "      <td>92.411545</td>\n",
       "      <td>1</td>\n",
       "      <td>2</td>\n",
       "      <td>77.232139</td>\n",
       "    </tr>\n",
       "    <tr>\n",
       "      <th>2</th>\n",
       "      <td>1</td>\n",
       "      <td>3</td>\n",
       "      <td>116.581679</td>\n",
       "      <td>1</td>\n",
       "      <td>3</td>\n",
       "      <td>109.287908</td>\n",
       "      <td>1</td>\n",
       "      <td>3</td>\n",
       "      <td>92.652752</td>\n",
       "    </tr>\n",
       "    <tr>\n",
       "      <th>3</th>\n",
       "      <td>1</td>\n",
       "      <td>4</td>\n",
       "      <td>159.517121</td>\n",
       "      <td>1</td>\n",
       "      <td>4</td>\n",
       "      <td>152.328309</td>\n",
       "      <td>1</td>\n",
       "      <td>4</td>\n",
       "      <td>130.819146</td>\n",
       "    </tr>\n",
       "    <tr>\n",
       "      <th>4</th>\n",
       "      <td>1</td>\n",
       "      <td>5</td>\n",
       "      <td>130.613379</td>\n",
       "      <td>1</td>\n",
       "      <td>5</td>\n",
       "      <td>123.262622</td>\n",
       "      <td>1</td>\n",
       "      <td>5</td>\n",
       "      <td>104.742556</td>\n",
       "    </tr>\n",
       "    <tr>\n",
       "      <th>...</th>\n",
       "      <td>...</td>\n",
       "      <td>...</td>\n",
       "      <td>...</td>\n",
       "      <td>...</td>\n",
       "      <td>...</td>\n",
       "      <td>...</td>\n",
       "      <td>...</td>\n",
       "      <td>...</td>\n",
       "      <td>...</td>\n",
       "    </tr>\n",
       "    <tr>\n",
       "      <th>164</th>\n",
       "      <td>6</td>\n",
       "      <td>13</td>\n",
       "      <td>132.556017</td>\n",
       "      <td>6</td>\n",
       "      <td>13</td>\n",
       "      <td>106.778495</td>\n",
       "      <td>6</td>\n",
       "      <td>13</td>\n",
       "      <td>96.108115</td>\n",
       "    </tr>\n",
       "    <tr>\n",
       "      <th>165</th>\n",
       "      <td>6</td>\n",
       "      <td>14</td>\n",
       "      <td>102.373615</td>\n",
       "      <td>6</td>\n",
       "      <td>14</td>\n",
       "      <td>76.600579</td>\n",
       "      <td>6</td>\n",
       "      <td>14</td>\n",
       "      <td>68.332995</td>\n",
       "    </tr>\n",
       "    <tr>\n",
       "      <th>166</th>\n",
       "      <td>6</td>\n",
       "      <td>15</td>\n",
       "      <td>44.861316</td>\n",
       "      <td>6</td>\n",
       "      <td>15</td>\n",
       "      <td>44.301316</td>\n",
       "      <td>6</td>\n",
       "      <td>15</td>\n",
       "      <td>39.916255</td>\n",
       "    </tr>\n",
       "    <tr>\n",
       "      <th>167</th>\n",
       "      <td>6</td>\n",
       "      <td>16</td>\n",
       "      <td>39.191002</td>\n",
       "      <td>6</td>\n",
       "      <td>16</td>\n",
       "      <td>38.631002</td>\n",
       "      <td>6</td>\n",
       "      <td>16</td>\n",
       "      <td>34.653143</td>\n",
       "    </tr>\n",
       "    <tr>\n",
       "      <th>168</th>\n",
       "      <td>6</td>\n",
       "      <td>17</td>\n",
       "      <td>70.977806</td>\n",
       "      <td>6</td>\n",
       "      <td>17</td>\n",
       "      <td>45.203116</td>\n",
       "      <td>6</td>\n",
       "      <td>17</td>\n",
       "      <td>39.512756</td>\n",
       "    </tr>\n",
       "  </tbody>\n",
       "</table>\n",
       "<p>169 rows × 9 columns</p>\n",
       "</div>"
      ],
      "text/plain": [
       "     mes  dia  precio_2.0  mes  dia  precio_3.0  mes  dia  precio_6.1\n",
       "0      1    1   68.436641    1    1   67.876641    1    1   59.591323\n",
       "1      1    2   99.827896    1    2   92.411545    1    2   77.232139\n",
       "2      1    3  116.581679    1    3  109.287908    1    3   92.652752\n",
       "3      1    4  159.517121    1    4  152.328309    1    4  130.819146\n",
       "4      1    5  130.613379    1    5  123.262622    1    5  104.742556\n",
       "..   ...  ...         ...  ...  ...         ...  ...  ...         ...\n",
       "164    6   13  132.556017    6   13  106.778495    6   13   96.108115\n",
       "165    6   14  102.373615    6   14   76.600579    6   14   68.332995\n",
       "166    6   15   44.861316    6   15   44.301316    6   15   39.916255\n",
       "167    6   16   39.191002    6   16   38.631002    6   16   34.653143\n",
       "168    6   17   70.977806    6   17   45.203116    6   17   39.512756\n",
       "\n",
       "[169 rows x 9 columns]"
      ]
     },
     "execution_count": 12,
     "metadata": {},
     "output_type": "execute_result"
    }
   ],
   "source": [
    "dff_dia = pd.concat([dff_20,dff_30,dff_61], axis=1)\n",
    "dff_dia\n"
   ]
  },
  {
   "cell_type": "markdown",
   "metadata": {},
   "source": [
    "### Eliminamos columnas duplicadas"
   ]
  },
  {
   "cell_type": "code",
   "execution_count": 13,
   "metadata": {},
   "outputs": [],
   "source": [
    "# se puede hacer también con dff_dia = dff_dia.loc[:, ~dff_dia.columns.duplicated()]"
   ]
  },
  {
   "cell_type": "code",
   "execution_count": 14,
   "metadata": {},
   "outputs": [
    {
     "data": {
      "text/html": [
       "<div>\n",
       "<style scoped>\n",
       "    .dataframe tbody tr th:only-of-type {\n",
       "        vertical-align: middle;\n",
       "    }\n",
       "\n",
       "    .dataframe tbody tr th {\n",
       "        vertical-align: top;\n",
       "    }\n",
       "\n",
       "    .dataframe thead th {\n",
       "        text-align: right;\n",
       "    }\n",
       "</style>\n",
       "<table border=\"1\" class=\"dataframe\">\n",
       "  <thead>\n",
       "    <tr style=\"text-align: right;\">\n",
       "      <th></th>\n",
       "      <th>mes</th>\n",
       "      <th>dia</th>\n",
       "      <th>precio_2.0</th>\n",
       "      <th>precio_3.0</th>\n",
       "      <th>precio_6.1</th>\n",
       "    </tr>\n",
       "  </thead>\n",
       "  <tbody>\n",
       "    <tr>\n",
       "      <th>0</th>\n",
       "      <td>1</td>\n",
       "      <td>1</td>\n",
       "      <td>68.436641</td>\n",
       "      <td>67.876641</td>\n",
       "      <td>59.591323</td>\n",
       "    </tr>\n",
       "    <tr>\n",
       "      <th>1</th>\n",
       "      <td>1</td>\n",
       "      <td>2</td>\n",
       "      <td>99.827896</td>\n",
       "      <td>92.411545</td>\n",
       "      <td>77.232139</td>\n",
       "    </tr>\n",
       "    <tr>\n",
       "      <th>2</th>\n",
       "      <td>1</td>\n",
       "      <td>3</td>\n",
       "      <td>116.581679</td>\n",
       "      <td>109.287908</td>\n",
       "      <td>92.652752</td>\n",
       "    </tr>\n",
       "    <tr>\n",
       "      <th>3</th>\n",
       "      <td>1</td>\n",
       "      <td>4</td>\n",
       "      <td>159.517121</td>\n",
       "      <td>152.328309</td>\n",
       "      <td>130.819146</td>\n",
       "    </tr>\n",
       "    <tr>\n",
       "      <th>4</th>\n",
       "      <td>1</td>\n",
       "      <td>5</td>\n",
       "      <td>130.613379</td>\n",
       "      <td>123.262622</td>\n",
       "      <td>104.742556</td>\n",
       "    </tr>\n",
       "    <tr>\n",
       "      <th>...</th>\n",
       "      <td>...</td>\n",
       "      <td>...</td>\n",
       "      <td>...</td>\n",
       "      <td>...</td>\n",
       "      <td>...</td>\n",
       "    </tr>\n",
       "    <tr>\n",
       "      <th>164</th>\n",
       "      <td>6</td>\n",
       "      <td>13</td>\n",
       "      <td>132.556017</td>\n",
       "      <td>106.778495</td>\n",
       "      <td>96.108115</td>\n",
       "    </tr>\n",
       "    <tr>\n",
       "      <th>165</th>\n",
       "      <td>6</td>\n",
       "      <td>14</td>\n",
       "      <td>102.373615</td>\n",
       "      <td>76.600579</td>\n",
       "      <td>68.332995</td>\n",
       "    </tr>\n",
       "    <tr>\n",
       "      <th>166</th>\n",
       "      <td>6</td>\n",
       "      <td>15</td>\n",
       "      <td>44.861316</td>\n",
       "      <td>44.301316</td>\n",
       "      <td>39.916255</td>\n",
       "    </tr>\n",
       "    <tr>\n",
       "      <th>167</th>\n",
       "      <td>6</td>\n",
       "      <td>16</td>\n",
       "      <td>39.191002</td>\n",
       "      <td>38.631002</td>\n",
       "      <td>34.653143</td>\n",
       "    </tr>\n",
       "    <tr>\n",
       "      <th>168</th>\n",
       "      <td>6</td>\n",
       "      <td>17</td>\n",
       "      <td>70.977806</td>\n",
       "      <td>45.203116</td>\n",
       "      <td>39.512756</td>\n",
       "    </tr>\n",
       "  </tbody>\n",
       "</table>\n",
       "<p>169 rows × 5 columns</p>\n",
       "</div>"
      ],
      "text/plain": [
       "     mes  dia  precio_2.0  precio_3.0  precio_6.1\n",
       "0      1    1   68.436641   67.876641   59.591323\n",
       "1      1    2   99.827896   92.411545   77.232139\n",
       "2      1    3  116.581679  109.287908   92.652752\n",
       "3      1    4  159.517121  152.328309  130.819146\n",
       "4      1    5  130.613379  123.262622  104.742556\n",
       "..   ...  ...         ...         ...         ...\n",
       "164    6   13  132.556017  106.778495   96.108115\n",
       "165    6   14  102.373615   76.600579   68.332995\n",
       "166    6   15   44.861316   44.301316   39.916255\n",
       "167    6   16   39.191002   38.631002   34.653143\n",
       "168    6   17   70.977806   45.203116   39.512756\n",
       "\n",
       "[169 rows x 5 columns]"
      ]
     },
     "execution_count": 14,
     "metadata": {},
     "output_type": "execute_result"
    }
   ],
   "source": [
    "dff_dia=dff_dia.loc[:, ~dff_dia.T.duplicated()]\n",
    "dff_dia"
   ]
  },
  {
   "cell_type": "markdown",
   "metadata": {},
   "source": [
    "### Graficamos los precios diarios por mes"
   ]
  },
  {
   "cell_type": "code",
   "execution_count": 22,
   "metadata": {},
   "outputs": [
    {
     "data": {
      "application/vnd.plotly.v1+json": {
       "config": {
        "plotlyServerURL": "https://plot.ly"
       },
       "data": [
        {
         "hovertemplate": "Precios s/ ATR=precio_2.0<br>mes=1<br>dia=%{x}<br>€/MWh=%{y}<extra></extra>",
         "legendgroup": "precio_2.0",
         "line": {
          "color": "#636efa",
          "dash": "solid"
         },
         "marker": {
          "symbol": "circle"
         },
         "mode": "lines",
         "name": "precio_2.0",
         "orientation": "v",
         "showlegend": true,
         "type": "scatter",
         "x": [
          1,
          2,
          3,
          4,
          5,
          6,
          7,
          8,
          9,
          10,
          11,
          12,
          13,
          14,
          15,
          16,
          17,
          18,
          19,
          20,
          21,
          22,
          23,
          24,
          25,
          26,
          27,
          28,
          29,
          30,
          31
         ],
         "xaxis": "x4",
         "y": [
          68.43664069613833,
          99.82789627836632,
          116.58167923318622,
          159.51712082909248,
          130.6133787455774,
          70.80940607712957,
          109.63513476608831,
          175.02653315771644,
          182.14985528015714,
          166.18925700659372,
          162.83632540149708,
          162.75370020963166,
          123.66565058018456,
          107.7650459740775,
          154.98154967872145,
          154.06052076447895,
          78.15932746606303,
          104.68752745931197,
          132.06537632706886,
          114.75891543145416,
          95.69040151298498,
          133.94449133872152,
          143.76733121610383,
          151.45353669557616,
          145.0113121913869,
          141.56855196602206,
          99.58267579775041,
          81.20614254038665,
          143.97073972913387,
          147.0522761542658,
          149.19210641143968
         ],
         "yaxis": "y4"
        },
        {
         "hovertemplate": "Precios s/ ATR=precio_2.0<br>mes=2<br>dia=%{x}<br>€/MWh=%{y}<extra></extra>",
         "legendgroup": "precio_2.0",
         "line": {
          "color": "#636efa",
          "dash": "solid"
         },
         "marker": {
          "symbol": "circle"
         },
         "mode": "lines",
         "name": "precio_2.0",
         "orientation": "v",
         "showlegend": false,
         "type": "scatter",
         "x": [
          1,
          2,
          3,
          4,
          5,
          6,
          7,
          8,
          9,
          10,
          11,
          12,
          13,
          14,
          15,
          16,
          17,
          18,
          19,
          20,
          21,
          22,
          23,
          24,
          25,
          26,
          27,
          28,
          29
         ],
         "xaxis": "x5",
         "y": [
          134.98246434628808,
          127.76829848851624,
          89.90444842611998,
          96.22665667867248,
          146.50430589025055,
          138.65297212039084,
          107.46999860715557,
          94.29596117705819,
          96.78250363015422,
          24.266258850746667,
          67.30300844583999,
          103.85257237513981,
          126.98202681139072,
          120.69555765476747,
          110.16657124646245,
          112.55265927392138,
          76.51755721609665,
          75.89895371324248,
          106.95466524818404,
          115.29310953224774,
          103.92418976618752,
          59.38427517431219,
          52.52054554165164,
          21.911686666481668,
          19.748054305250417,
          55.28762159218356,
          51.60364484777523,
          64.84913840127125,
          54.35945653416318
         ],
         "yaxis": "y5"
        },
        {
         "hovertemplate": "Precios s/ ATR=precio_2.0<br>mes=3<br>dia=%{x}<br>€/MWh=%{y}<extra></extra>",
         "legendgroup": "precio_2.0",
         "line": {
          "color": "#636efa",
          "dash": "solid"
         },
         "marker": {
          "symbol": "circle"
         },
         "mode": "lines",
         "name": "precio_2.0",
         "orientation": "v",
         "showlegend": false,
         "type": "scatter",
         "x": [
          1,
          2,
          3,
          4,
          5,
          6,
          7,
          8,
          9,
          10,
          11,
          12,
          13,
          14,
          15,
          16,
          17,
          18,
          19,
          20,
          21,
          22,
          23,
          24,
          25,
          26,
          27,
          28,
          29,
          30,
          31
         ],
         "xaxis": "x6",
         "y": [
          50.72094355142277,
          18.300072999914583,
          20.067669109999166,
          57.7649833046091,
          89.99161375179379,
          103.87757370514821,
          59.74165301551208,
          50.5252366564035,
          15.6487932776025,
          18.50572493431333,
          69.42370603545879,
          106.53884469539538,
          103.72852543469845,
          95.2220314484025,
          95.82656635870948,
          60.58809135168082,
          60.56947249947958,
          129.1226087524222,
          129.59283906598293,
          118.18017115674344,
          95.13999140525509,
          80.28811394519865,
          23.29390497368333,
          32.78837154250833,
          86.03547628651246,
          55.62209845843419,
          51.344048904563294,
          52.35777571792216,
          59.685987035574776,
          29.094369435447916,
          22.551181346678693
         ],
         "yaxis": "y6"
        },
        {
         "hovertemplate": "Precios s/ ATR=precio_2.0<br>mes=4<br>dia=%{x}<br>€/MWh=%{y}<extra></extra>",
         "legendgroup": "precio_2.0",
         "line": {
          "color": "#636efa",
          "dash": "solid"
         },
         "marker": {
          "symbol": "circle"
         },
         "mode": "lines",
         "name": "precio_2.0",
         "orientation": "v",
         "showlegend": false,
         "type": "scatter",
         "x": [
          1,
          2,
          3,
          4,
          5,
          6,
          7,
          8,
          9,
          10,
          11,
          12,
          13,
          14,
          15,
          16,
          17,
          18,
          19,
          20,
          21,
          22,
          23,
          24,
          25,
          26,
          27,
          28,
          29,
          30
         ],
         "xaxis": "x",
         "y": [
          60.12272707752146,
          69.1615748172495,
          67.78073815651858,
          67.3223833331927,
          56.63539841177104,
          21.473333069760415,
          38.81749482973791,
          57.95088468633154,
          61.60410363342779,
          71.22582648439761,
          77.47453677848655,
          85.21119336090692,
          38.4295047447,
          37.869897533389995,
          65.59914979711256,
          61.37048085223617,
          60.776008578024495,
          60.22148188784083,
          74.7621730240039,
          29.620148667972497,
          32.55002931939458,
          60.908366493299894,
          63.496359554343286,
          78.73366018445851,
          104.74023352780732,
          120.73015842614136,
          48.80606810105792,
          60.69674245923999,
          122.98383163970016,
          112.65537727734277
         ],
         "yaxis": "y"
        },
        {
         "hovertemplate": "Precios s/ ATR=precio_2.0<br>mes=5<br>dia=%{x}<br>€/MWh=%{y}<extra></extra>",
         "legendgroup": "precio_2.0",
         "line": {
          "color": "#636efa",
          "dash": "solid"
         },
         "marker": {
          "symbol": "circle"
         },
         "mode": "lines",
         "name": "precio_2.0",
         "orientation": "v",
         "showlegend": false,
         "type": "scatter",
         "x": [
          1,
          2,
          3,
          4,
          5,
          6,
          7,
          8,
          9,
          10,
          11,
          12,
          13,
          14,
          15,
          16,
          17,
          18,
          19,
          20,
          21,
          22,
          23,
          24,
          25,
          26,
          27,
          28,
          29,
          30,
          31
         ],
         "xaxis": "x2",
         "y": [
          36.54088580404458,
          73.90840824216671,
          83.68622767656792,
          38.70799644018666,
          44.63289053654625,
          111.44905155591458,
          105.97967200177914,
          79.13038533506877,
          91.73098979566909,
          88.85801917359261,
          45.98241280962541,
          50.03484040889207,
          83.1267348544342,
          61.62006205664454,
          69.98302190851909,
          92.4936619925867,
          115.793553642363,
          59.89099849310916,
          57.92386087127165,
          92.62640671031704,
          105.5091108317684,
          101.89035833346661,
          124.272360485751,
          137.1647369577645,
          75.00202767708541,
          57.78945917818749,
          92.88093140983675,
          89.30023082975818,
          100.6511076050936,
          84.54428538366703,
          57.934010043155844
         ],
         "yaxis": "y2"
        },
        {
         "hovertemplate": "Precios s/ ATR=precio_2.0<br>mes=6<br>dia=%{x}<br>€/MWh=%{y}<extra></extra>",
         "legendgroup": "precio_2.0",
         "line": {
          "color": "#636efa",
          "dash": "solid"
         },
         "marker": {
          "symbol": "circle"
         },
         "mode": "lines",
         "name": "precio_2.0",
         "orientation": "v",
         "showlegend": false,
         "type": "scatter",
         "x": [
          1,
          2,
          3,
          4,
          5,
          6,
          7,
          8,
          9,
          10,
          11,
          12,
          13,
          14,
          15,
          16,
          17
         ],
         "xaxis": "x3",
         "y": [
          22.415372402549163,
          25.55859177934958,
          88.74710105836965,
          151.28810730739687,
          165.87988140062438,
          156.23986429232602,
          139.0585212154967,
          98.0985520048154,
          42.320289461478744,
          101.88342009314535,
          127.90246412814656,
          113.99703981056426,
          132.55601717719998,
          102.37361547727674,
          44.86131557926041,
          39.1910015759525,
          70.97780619499875
         ],
         "yaxis": "y3"
        },
        {
         "hovertemplate": "Precios s/ ATR=precio_3.0<br>mes=1<br>dia=%{x}<br>€/MWh=%{y}<extra></extra>",
         "legendgroup": "precio_3.0",
         "line": {
          "color": "#EF553B",
          "dash": "solid"
         },
         "marker": {
          "symbol": "circle"
         },
         "mode": "lines",
         "name": "precio_3.0",
         "orientation": "v",
         "showlegend": true,
         "type": "scatter",
         "x": [
          1,
          2,
          3,
          4,
          5,
          6,
          7,
          8,
          9,
          10,
          11,
          12,
          13,
          14,
          15,
          16,
          17,
          18,
          19,
          20,
          21,
          22,
          23,
          24,
          25,
          26,
          27,
          28,
          29,
          30,
          31
         ],
         "xaxis": "x4",
         "y": [
          67.87664069613832,
          92.41154535823495,
          109.28790824122018,
          152.32830948839435,
          123.2626218904946,
          70.24940607712956,
          109.07513476608831,
          167.89613269874417,
          175.0213862204647,
          158.98018353107113,
          155.64316308800423,
          155.552093742347,
          123.10565058018456,
          107.20504597407749,
          147.75833341982297,
          146.81015455877704,
          70.64752349002497,
          97.35447701263098,
          124.7292734364117,
          114.19891543145415,
          95.13040151298497,
          126.66994583263649,
          136.48826235376018,
          144.1769869459873,
          137.7340327278777,
          134.28942281225127,
          99.02267579775041,
          80.64614254038665,
          136.71566735842035,
          139.7854724571254,
          141.91229223149602
         ],
         "yaxis": "y4"
        },
        {
         "hovertemplate": "Precios s/ ATR=precio_3.0<br>mes=2<br>dia=%{x}<br>€/MWh=%{y}<extra></extra>",
         "legendgroup": "precio_3.0",
         "line": {
          "color": "#EF553B",
          "dash": "solid"
         },
         "marker": {
          "symbol": "circle"
         },
         "mode": "lines",
         "name": "precio_3.0",
         "orientation": "v",
         "showlegend": false,
         "type": "scatter",
         "x": [
          1,
          2,
          3,
          4,
          5,
          6,
          7,
          8,
          9,
          10,
          11,
          12,
          13,
          14,
          15,
          16,
          17,
          18,
          19,
          20,
          21,
          22,
          23,
          24,
          25,
          26,
          27,
          28,
          29
         ],
         "xaxis": "x5",
         "y": [
          127.67495465303175,
          120.4279770412158,
          89.34444842611998,
          95.66665667867248,
          139.18131621561312,
          131.3287642084126,
          100.04571451215759,
          86.85415314767289,
          89.35717469994597,
          23.706258850746664,
          66.74300844583999,
          96.4387320275871,
          119.67109681471597,
          113.31967817480376,
          102.78545072789713,
          105.1659365103665,
          75.95755721609665,
          75.33895371324247,
          99.53080942780092,
          107.87749868569347,
          96.49383926657737,
          51.80271244702633,
          44.92923223061904,
          21.351686666481665,
          19.188054305250414,
          47.70238837959758,
          44.00695977445133,
          57.285707472198624,
          46.76931111864943
         ],
         "yaxis": "y5"
        },
        {
         "hovertemplate": "Precios s/ ATR=precio_3.0<br>mes=3<br>dia=%{x}<br>€/MWh=%{y}<extra></extra>",
         "legendgroup": "precio_3.0",
         "line": {
          "color": "#EF553B",
          "dash": "solid"
         },
         "marker": {
          "symbol": "circle"
         },
         "mode": "lines",
         "name": "precio_3.0",
         "orientation": "v",
         "showlegend": false,
         "type": "scatter",
         "x": [
          1,
          2,
          3,
          4,
          5,
          6,
          7,
          8,
          9,
          10,
          11,
          12,
          13,
          14,
          15,
          16,
          17,
          18,
          19,
          20,
          21,
          22,
          23,
          24,
          25,
          26,
          27,
          28,
          29,
          30,
          31
         ],
         "xaxis": "x6",
         "y": [
          32.23648760386583,
          17.74007299991458,
          19.507669109999167,
          39.305803374091454,
          71.68371341060676,
          85.55145762981967,
          41.298955499554786,
          32.0368197117351,
          15.088793277602498,
          17.945724934313333,
          51.038518091872184,
          88.2554415605381,
          85.42847523707697,
          76.89786109002416,
          77.5246136509327,
          60.02809135168082,
          60.00947249947958,
          110.90176445979132,
          111.36780129996394,
          99.91983100462676,
          76.818748268865,
          61.907620909165615,
          22.733904973683334,
          32.22837154250833,
          67.64387191831686,
          37.16019056681208,
          32.86343859886031,
          33.87070278086437,
          41.2335922206852,
          28.534369435447914,
          21.991181346678694
         ],
         "yaxis": "y6"
        },
        {
         "hovertemplate": "Precios s/ ATR=precio_3.0<br>mes=4<br>dia=%{x}<br>€/MWh=%{y}<extra></extra>",
         "legendgroup": "precio_3.0",
         "line": {
          "color": "#EF553B",
          "dash": "solid"
         },
         "marker": {
          "symbol": "circle"
         },
         "mode": "lines",
         "name": "precio_3.0",
         "orientation": "v",
         "showlegend": false,
         "type": "scatter",
         "x": [
          1,
          2,
          3,
          4,
          5,
          6,
          7,
          8,
          9,
          10,
          11,
          12,
          13,
          14,
          15,
          16,
          17,
          18,
          19,
          20,
          21,
          22,
          23,
          24,
          25,
          26,
          27,
          28,
          29,
          30
         ],
         "xaxis": "x",
         "y": [
          29.49443843335779,
          38.48696939076385,
          37.06833076744789,
          36.666674807424684,
          26.02925664810787,
          20.913333069760416,
          38.257494829737915,
          27.375265097872,
          30.953938799912933,
          40.539283570893495,
          46.68706462594856,
          54.399708217393595,
          37.869504744699995,
          37.30989753338999,
          34.96659065557527,
          30.761570815292938,
          30.166838806531306,
          29.60503823057377,
          44.018385393163726,
          29.0601486679725,
          31.99002931939458,
          30.323149686257185,
          32.86906046898047,
          47.94963538354108,
          73.78838809595605,
          89.75489648908797,
          48.246068101057915,
          60.13674245923999,
          91.90382449579145,
          81.73130023578729
         ],
         "yaxis": "y"
        },
        {
         "hovertemplate": "Precios s/ ATR=precio_3.0<br>mes=5<br>dia=%{x}<br>€/MWh=%{y}<extra></extra>",
         "legendgroup": "precio_3.0",
         "line": {
          "color": "#EF553B",
          "dash": "solid"
         },
         "marker": {
          "symbol": "circle"
         },
         "mode": "lines",
         "name": "precio_3.0",
         "orientation": "v",
         "showlegend": false,
         "type": "scatter",
         "x": [
          1,
          2,
          3,
          4,
          5,
          6,
          7,
          8,
          9,
          10,
          11,
          12,
          13,
          14,
          15,
          16,
          17,
          18,
          19,
          20,
          21,
          22,
          23,
          24,
          25,
          26,
          27,
          28,
          29,
          30,
          31
         ],
         "xaxis": "x2",
         "y": [
          35.98088580404458,
          43.199873514173845,
          52.93396566422097,
          38.14799644018666,
          44.07289053654625,
          80.51164140197268,
          75.15184100719766,
          48.37251164377248,
          60.89932061536868,
          58.07277506512681,
          45.422412809625406,
          49.47484040889208,
          52.430210555242205,
          30.978751484816787,
          39.278483207152746,
          61.634918707526225,
          84.81539571130618,
          59.330998493109156,
          57.36386087127165,
          61.87421709753522,
          74.65138507181645,
          71.07088502391342,
          93.23127577943798,
          106.02081800766722,
          74.4420276770854,
          57.22945917818749,
          62.11285789795057,
          58.52294037784397,
          69.76939580032713,
          53.825917887500076,
          27.35014420533808
         ],
         "yaxis": "y2"
        },
        {
         "hovertemplate": "Precios s/ ATR=precio_3.0<br>mes=6<br>dia=%{x}<br>€/MWh=%{y}<extra></extra>",
         "legendgroup": "precio_3.0",
         "line": {
          "color": "#EF553B",
          "dash": "solid"
         },
         "marker": {
          "symbol": "circle"
         },
         "mode": "lines",
         "name": "precio_3.0",
         "orientation": "v",
         "showlegend": false,
         "type": "scatter",
         "x": [
          1,
          2,
          3,
          4,
          5,
          6,
          7,
          8,
          9,
          10,
          11,
          12,
          13,
          14,
          15,
          16,
          17
         ],
         "xaxis": "x3",
         "y": [
          21.855372402549165,
          24.99859177934958,
          62.963280912628115,
          125.51443102316374,
          140.09121343455539,
          130.45946054860937,
          113.27948814682821,
          97.5385520048154,
          41.76028946147874,
          76.10391207320082,
          102.12583888089581,
          88.21649772054177,
          106.77849479729791,
          76.60057892666843,
          44.30131557926041,
          38.631001575952496,
          45.20311642418135
         ],
         "yaxis": "y3"
        },
        {
         "hovertemplate": "Precios s/ ATR=precio_6.1<br>mes=1<br>dia=%{x}<br>€/MWh=%{y}<extra></extra>",
         "legendgroup": "precio_6.1",
         "line": {
          "color": "#00cc96",
          "dash": "solid"
         },
         "marker": {
          "symbol": "circle"
         },
         "mode": "lines",
         "name": "precio_6.1",
         "orientation": "v",
         "showlegend": true,
         "type": "scatter",
         "x": [
          1,
          2,
          3,
          4,
          5,
          6,
          7,
          8,
          9,
          10,
          11,
          12,
          13,
          14,
          15,
          16,
          17,
          18,
          19,
          20,
          21,
          22,
          23,
          24,
          25,
          26,
          27,
          28,
          29,
          30,
          31
         ],
         "xaxis": "x4",
         "y": [
          59.59132266353325,
          77.23213889566232,
          92.65275151878838,
          130.81914580213615,
          104.74255574553906,
          61.86305698623505,
          96.30547550873406,
          144.60209752781154,
          151.05670260947915,
          137.08441161402894,
          133.79025788322699,
          133.7583207378973,
          108.7608941139308,
          94.71293550002203,
          126.6440302183201,
          125.84055311862427,
          57.88624660962847,
          81.68019635469587,
          106.18830877642733,
          100.87982780493685,
          83.9900877652769,
          107.84097206183652,
          116.61470874174127,
          123.73794189012358,
          117.77560823156637,
          114.68624161088803,
          87.3106540449636,
          71.05040714459132,
          116.77697370783294,
          119.53598168707167,
          121.73488575725207
         ],
         "yaxis": "y4"
        },
        {
         "hovertemplate": "Precios s/ ATR=precio_6.1<br>mes=2<br>dia=%{x}<br>€/MWh=%{y}<extra></extra>",
         "legendgroup": "precio_6.1",
         "line": {
          "color": "#00cc96",
          "dash": "solid"
         },
         "marker": {
          "symbol": "circle"
         },
         "mode": "lines",
         "name": "precio_6.1",
         "orientation": "v",
         "showlegend": false,
         "type": "scatter",
         "x": [
          1,
          2,
          3,
          4,
          5,
          6,
          7,
          8,
          9,
          10,
          11,
          12,
          13,
          14,
          15,
          16,
          17,
          18,
          19,
          20,
          21,
          22,
          23,
          24,
          25,
          26,
          27,
          28,
          29
         ],
         "xaxis": "x5",
         "y": [
          108.90058990963509,
          102.53029590134638,
          79.35656696561799,
          84.76979907226546,
          119.34173055990891,
          112.32020471099048,
          84.26656177762402,
          72.30108340199746,
          74.7474189520794,
          20.521691899578666,
          59.083389758776,
          81.00752993757168,
          101.91708471672843,
          96.10719991982592,
          86.61481958113815,
          88.80506863853402,
          67.33353616558949,
          66.61418898427594,
          83.73296133215501,
          91.31201425162028,
          80.98591176893026,
          40.891120041749225,
          34.7773358907285,
          18.425447826309746,
          16.461704052338604,
          37.276832845546124,
          33.96298054423981,
          45.86230486870256,
          36.377168286118454
         ],
         "yaxis": "y5"
        },
        {
         "hovertemplate": "Precios s/ ATR=precio_6.1<br>mes=3<br>dia=%{x}<br>€/MWh=%{y}<extra></extra>",
         "legendgroup": "precio_6.1",
         "line": {
          "color": "#00cc96",
          "dash": "solid"
         },
         "marker": {
          "symbol": "circle"
         },
         "mode": "lines",
         "name": "precio_6.1",
         "orientation": "v",
         "showlegend": false,
         "type": "scatter",
         "x": [
          1,
          2,
          3,
          4,
          5,
          6,
          7,
          8,
          9,
          10,
          11,
          12,
          13,
          14,
          15,
          16,
          17,
          18,
          19,
          20,
          21,
          22,
          23,
          24,
          25,
          26,
          27,
          28,
          29,
          30,
          31
         ],
         "xaxis": "x6",
         "y": [
          25.394147918077167,
          15.303834676815313,
          16.89391298964779,
          31.805671868700188,
          61.13919802706449,
          73.51864528714387,
          33.565073200397954,
          25.227772550075525,
          12.92699424236329,
          15.510873143196998,
          42.42286130355423,
          76.09926938313846,
          73.42092014107082,
          65.67245087232725,
          66.21719728908374,
          53.24056103423754,
          53.30519699746256,
          96.52756345643586,
          97.01765372522605,
          86.5350936976066,
          65.59158378447368,
          52.158580826366,
          19.762581236427497,
          28.344948289480413,
          57.35595563546931,
          29.891364981011773,
          25.990961716803564,
          26.87757969216177,
          33.514973105206685,
          24.96835309414531,
          19.067578964968106
         ],
         "yaxis": "y6"
        },
        {
         "hovertemplate": "Precios s/ ATR=precio_6.1<br>mes=4<br>dia=%{x}<br>€/MWh=%{y}<extra></extra>",
         "legendgroup": "precio_6.1",
         "line": {
          "color": "#00cc96",
          "dash": "solid"
         },
         "marker": {
          "symbol": "circle"
         },
         "mode": "lines",
         "name": "precio_6.1",
         "orientation": "v",
         "showlegend": false,
         "type": "scatter",
         "x": [
          1,
          2,
          3,
          4,
          5,
          6,
          7,
          8,
          9,
          10,
          11,
          12,
          13,
          14,
          15,
          16,
          17,
          18,
          19,
          20,
          21,
          22,
          23,
          24,
          25,
          26,
          27,
          28,
          29,
          30
         ],
         "xaxis": "x",
         "y": [
          25.560209372577518,
          33.76471151630614,
          32.501367853506686,
          32.173557340402745,
          22.444371354117976,
          18.29891448215677,
          34.11608378364714,
          23.676995731581187,
          26.92363931971902,
          35.686867125595846,
          41.248653692374454,
          48.16411354971822,
          33.64494532828833,
          33.18848172261683,
          30.53989471510962,
          26.725201828883666,
          26.235701846597664,
          25.717392860004537,
          38.73330560038987,
          25.680178423243788,
          28.333015644037314,
          26.313836360569308,
          28.651118500673643,
          42.380530822431055,
          65.89900802050312,
          80.30596482378557,
          43.040499953878474,
          53.824526704785995,
          82.26316372185694,
          73.01282998950424
         ],
         "yaxis": "y"
        },
        {
         "hovertemplate": "Precios s/ ATR=precio_6.1<br>mes=5<br>dia=%{x}<br>€/MWh=%{y}<extra></extra>",
         "legendgroup": "precio_6.1",
         "line": {
          "color": "#00cc96",
          "dash": "solid"
         },
         "marker": {
          "symbol": "circle"
         },
         "mode": "lines",
         "name": "precio_6.1",
         "orientation": "v",
         "showlegend": false,
         "type": "scatter",
         "x": [
          1,
          2,
          3,
          4,
          5,
          6,
          7,
          8,
          9,
          10,
          11,
          12,
          13,
          14,
          15,
          16,
          17,
          18,
          19,
          20,
          21,
          22,
          23,
          24,
          25,
          26,
          27,
          28,
          29,
          30,
          31
         ],
         "xaxis": "x2",
         "y": [
          31.921299355526475,
          38.163677019509684,
          47.01453685467741,
          34.02350436839466,
          39.44803404202256,
          72.26915874796622,
          67.39616095278292,
          42.96690954773727,
          54.27091861771006,
          51.691936839560036,
          40.64122557226568,
          44.32796472815568,
          46.599243991355245,
          27.068806860674083,
          34.638802419883056,
          54.9205354551306,
          76.08734451903838,
          53.28697149658928,
          51.50456873613658,
          55.21499301142836,
          66.94995088029599,
          63.73426687951412,
          83.82673418141965,
          95.44661551963662,
          67.00103932806802,
          51.35462979428021,
          55.50036143520396,
          52.2270562800987,
          62.575001381509715,
          47.84115174839508,
          23.719272831492265
         ],
         "yaxis": "y2"
        },
        {
         "hovertemplate": "Precios s/ ATR=precio_6.1<br>mes=6<br>dia=%{x}<br>€/MWh=%{y}<extra></extra>",
         "legendgroup": "precio_6.1",
         "line": {
          "color": "#00cc96",
          "dash": "solid"
         },
         "marker": {
          "symbol": "circle"
         },
         "mode": "lines",
         "name": "precio_6.1",
         "orientation": "v",
         "showlegend": false,
         "type": "scatter",
         "x": [
          1,
          2,
          3,
          4,
          5,
          6,
          7,
          8,
          9,
          10,
          11,
          12,
          13,
          14,
          15,
          16,
          17
         ],
         "xaxis": "x3",
         "y": [
          19.363290300905287,
          22.21241809218473,
          55.91765082736833,
          113.42817308795424,
          126.80975806392979,
          117.90633336587833,
          102.08959940528474,
          88.87194987381918,
          37.565766151577016,
          67.99465313837935,
          91.91121072223432,
          79.08194778533745,
          96.1081149120581,
          68.33299464221739,
          39.916254743165105,
          34.65314327832412,
          39.512755944824626
         ],
         "yaxis": "y3"
        }
       ],
       "layout": {
        "annotations": [
         {
          "font": {},
          "showarrow": false,
          "text": "mes=4",
          "x": 0.15999999999999998,
          "xanchor": "center",
          "xref": "paper",
          "y": 0.46499999999999997,
          "yanchor": "bottom",
          "yref": "paper"
         },
         {
          "font": {},
          "showarrow": false,
          "text": "mes=5",
          "x": 0.49999999999999994,
          "xanchor": "center",
          "xref": "paper",
          "y": 0.46499999999999997,
          "yanchor": "bottom",
          "yref": "paper"
         },
         {
          "font": {},
          "showarrow": false,
          "text": "mes=6",
          "x": 0.8399999999999999,
          "xanchor": "center",
          "xref": "paper",
          "y": 0.46499999999999997,
          "yanchor": "bottom",
          "yref": "paper"
         },
         {
          "font": {},
          "showarrow": false,
          "text": "mes=1",
          "x": 0.15999999999999998,
          "xanchor": "center",
          "xref": "paper",
          "y": 0.9999999999999999,
          "yanchor": "bottom",
          "yref": "paper"
         },
         {
          "font": {},
          "showarrow": false,
          "text": "mes=2",
          "x": 0.49999999999999994,
          "xanchor": "center",
          "xref": "paper",
          "y": 0.9999999999999999,
          "yanchor": "bottom",
          "yref": "paper"
         },
         {
          "font": {},
          "showarrow": false,
          "text": "mes=3",
          "x": 0.8399999999999999,
          "xanchor": "center",
          "xref": "paper",
          "y": 0.9999999999999999,
          "yanchor": "bottom",
          "yref": "paper"
         }
        ],
        "height": 1000,
        "legend": {
         "title": {
          "text": "Precios s/ ATR"
         },
         "tracegroupgap": 0
        },
        "template": {
         "data": {
          "bar": [
           {
            "error_x": {
             "color": "#2a3f5f"
            },
            "error_y": {
             "color": "#2a3f5f"
            },
            "marker": {
             "line": {
              "color": "#E5ECF6",
              "width": 0.5
             },
             "pattern": {
              "fillmode": "overlay",
              "size": 10,
              "solidity": 0.2
             }
            },
            "type": "bar"
           }
          ],
          "barpolar": [
           {
            "marker": {
             "line": {
              "color": "#E5ECF6",
              "width": 0.5
             },
             "pattern": {
              "fillmode": "overlay",
              "size": 10,
              "solidity": 0.2
             }
            },
            "type": "barpolar"
           }
          ],
          "carpet": [
           {
            "aaxis": {
             "endlinecolor": "#2a3f5f",
             "gridcolor": "white",
             "linecolor": "white",
             "minorgridcolor": "white",
             "startlinecolor": "#2a3f5f"
            },
            "baxis": {
             "endlinecolor": "#2a3f5f",
             "gridcolor": "white",
             "linecolor": "white",
             "minorgridcolor": "white",
             "startlinecolor": "#2a3f5f"
            },
            "type": "carpet"
           }
          ],
          "choropleth": [
           {
            "colorbar": {
             "outlinewidth": 0,
             "ticks": ""
            },
            "type": "choropleth"
           }
          ],
          "contour": [
           {
            "colorbar": {
             "outlinewidth": 0,
             "ticks": ""
            },
            "colorscale": [
             [
              0,
              "#0d0887"
             ],
             [
              0.1111111111111111,
              "#46039f"
             ],
             [
              0.2222222222222222,
              "#7201a8"
             ],
             [
              0.3333333333333333,
              "#9c179e"
             ],
             [
              0.4444444444444444,
              "#bd3786"
             ],
             [
              0.5555555555555556,
              "#d8576b"
             ],
             [
              0.6666666666666666,
              "#ed7953"
             ],
             [
              0.7777777777777778,
              "#fb9f3a"
             ],
             [
              0.8888888888888888,
              "#fdca26"
             ],
             [
              1,
              "#f0f921"
             ]
            ],
            "type": "contour"
           }
          ],
          "contourcarpet": [
           {
            "colorbar": {
             "outlinewidth": 0,
             "ticks": ""
            },
            "type": "contourcarpet"
           }
          ],
          "heatmap": [
           {
            "colorbar": {
             "outlinewidth": 0,
             "ticks": ""
            },
            "colorscale": [
             [
              0,
              "#0d0887"
             ],
             [
              0.1111111111111111,
              "#46039f"
             ],
             [
              0.2222222222222222,
              "#7201a8"
             ],
             [
              0.3333333333333333,
              "#9c179e"
             ],
             [
              0.4444444444444444,
              "#bd3786"
             ],
             [
              0.5555555555555556,
              "#d8576b"
             ],
             [
              0.6666666666666666,
              "#ed7953"
             ],
             [
              0.7777777777777778,
              "#fb9f3a"
             ],
             [
              0.8888888888888888,
              "#fdca26"
             ],
             [
              1,
              "#f0f921"
             ]
            ],
            "type": "heatmap"
           }
          ],
          "heatmapgl": [
           {
            "colorbar": {
             "outlinewidth": 0,
             "ticks": ""
            },
            "colorscale": [
             [
              0,
              "#0d0887"
             ],
             [
              0.1111111111111111,
              "#46039f"
             ],
             [
              0.2222222222222222,
              "#7201a8"
             ],
             [
              0.3333333333333333,
              "#9c179e"
             ],
             [
              0.4444444444444444,
              "#bd3786"
             ],
             [
              0.5555555555555556,
              "#d8576b"
             ],
             [
              0.6666666666666666,
              "#ed7953"
             ],
             [
              0.7777777777777778,
              "#fb9f3a"
             ],
             [
              0.8888888888888888,
              "#fdca26"
             ],
             [
              1,
              "#f0f921"
             ]
            ],
            "type": "heatmapgl"
           }
          ],
          "histogram": [
           {
            "marker": {
             "pattern": {
              "fillmode": "overlay",
              "size": 10,
              "solidity": 0.2
             }
            },
            "type": "histogram"
           }
          ],
          "histogram2d": [
           {
            "colorbar": {
             "outlinewidth": 0,
             "ticks": ""
            },
            "colorscale": [
             [
              0,
              "#0d0887"
             ],
             [
              0.1111111111111111,
              "#46039f"
             ],
             [
              0.2222222222222222,
              "#7201a8"
             ],
             [
              0.3333333333333333,
              "#9c179e"
             ],
             [
              0.4444444444444444,
              "#bd3786"
             ],
             [
              0.5555555555555556,
              "#d8576b"
             ],
             [
              0.6666666666666666,
              "#ed7953"
             ],
             [
              0.7777777777777778,
              "#fb9f3a"
             ],
             [
              0.8888888888888888,
              "#fdca26"
             ],
             [
              1,
              "#f0f921"
             ]
            ],
            "type": "histogram2d"
           }
          ],
          "histogram2dcontour": [
           {
            "colorbar": {
             "outlinewidth": 0,
             "ticks": ""
            },
            "colorscale": [
             [
              0,
              "#0d0887"
             ],
             [
              0.1111111111111111,
              "#46039f"
             ],
             [
              0.2222222222222222,
              "#7201a8"
             ],
             [
              0.3333333333333333,
              "#9c179e"
             ],
             [
              0.4444444444444444,
              "#bd3786"
             ],
             [
              0.5555555555555556,
              "#d8576b"
             ],
             [
              0.6666666666666666,
              "#ed7953"
             ],
             [
              0.7777777777777778,
              "#fb9f3a"
             ],
             [
              0.8888888888888888,
              "#fdca26"
             ],
             [
              1,
              "#f0f921"
             ]
            ],
            "type": "histogram2dcontour"
           }
          ],
          "mesh3d": [
           {
            "colorbar": {
             "outlinewidth": 0,
             "ticks": ""
            },
            "type": "mesh3d"
           }
          ],
          "parcoords": [
           {
            "line": {
             "colorbar": {
              "outlinewidth": 0,
              "ticks": ""
             }
            },
            "type": "parcoords"
           }
          ],
          "pie": [
           {
            "automargin": true,
            "type": "pie"
           }
          ],
          "scatter": [
           {
            "fillpattern": {
             "fillmode": "overlay",
             "size": 10,
             "solidity": 0.2
            },
            "type": "scatter"
           }
          ],
          "scatter3d": [
           {
            "line": {
             "colorbar": {
              "outlinewidth": 0,
              "ticks": ""
             }
            },
            "marker": {
             "colorbar": {
              "outlinewidth": 0,
              "ticks": ""
             }
            },
            "type": "scatter3d"
           }
          ],
          "scattercarpet": [
           {
            "marker": {
             "colorbar": {
              "outlinewidth": 0,
              "ticks": ""
             }
            },
            "type": "scattercarpet"
           }
          ],
          "scattergeo": [
           {
            "marker": {
             "colorbar": {
              "outlinewidth": 0,
              "ticks": ""
             }
            },
            "type": "scattergeo"
           }
          ],
          "scattergl": [
           {
            "marker": {
             "colorbar": {
              "outlinewidth": 0,
              "ticks": ""
             }
            },
            "type": "scattergl"
           }
          ],
          "scattermapbox": [
           {
            "marker": {
             "colorbar": {
              "outlinewidth": 0,
              "ticks": ""
             }
            },
            "type": "scattermapbox"
           }
          ],
          "scatterpolar": [
           {
            "marker": {
             "colorbar": {
              "outlinewidth": 0,
              "ticks": ""
             }
            },
            "type": "scatterpolar"
           }
          ],
          "scatterpolargl": [
           {
            "marker": {
             "colorbar": {
              "outlinewidth": 0,
              "ticks": ""
             }
            },
            "type": "scatterpolargl"
           }
          ],
          "scatterternary": [
           {
            "marker": {
             "colorbar": {
              "outlinewidth": 0,
              "ticks": ""
             }
            },
            "type": "scatterternary"
           }
          ],
          "surface": [
           {
            "colorbar": {
             "outlinewidth": 0,
             "ticks": ""
            },
            "colorscale": [
             [
              0,
              "#0d0887"
             ],
             [
              0.1111111111111111,
              "#46039f"
             ],
             [
              0.2222222222222222,
              "#7201a8"
             ],
             [
              0.3333333333333333,
              "#9c179e"
             ],
             [
              0.4444444444444444,
              "#bd3786"
             ],
             [
              0.5555555555555556,
              "#d8576b"
             ],
             [
              0.6666666666666666,
              "#ed7953"
             ],
             [
              0.7777777777777778,
              "#fb9f3a"
             ],
             [
              0.8888888888888888,
              "#fdca26"
             ],
             [
              1,
              "#f0f921"
             ]
            ],
            "type": "surface"
           }
          ],
          "table": [
           {
            "cells": {
             "fill": {
              "color": "#EBF0F8"
             },
             "line": {
              "color": "white"
             }
            },
            "header": {
             "fill": {
              "color": "#C8D4E3"
             },
             "line": {
              "color": "white"
             }
            },
            "type": "table"
           }
          ]
         },
         "layout": {
          "annotationdefaults": {
           "arrowcolor": "#2a3f5f",
           "arrowhead": 0,
           "arrowwidth": 1
          },
          "autotypenumbers": "strict",
          "coloraxis": {
           "colorbar": {
            "outlinewidth": 0,
            "ticks": ""
           }
          },
          "colorscale": {
           "diverging": [
            [
             0,
             "#8e0152"
            ],
            [
             0.1,
             "#c51b7d"
            ],
            [
             0.2,
             "#de77ae"
            ],
            [
             0.3,
             "#f1b6da"
            ],
            [
             0.4,
             "#fde0ef"
            ],
            [
             0.5,
             "#f7f7f7"
            ],
            [
             0.6,
             "#e6f5d0"
            ],
            [
             0.7,
             "#b8e186"
            ],
            [
             0.8,
             "#7fbc41"
            ],
            [
             0.9,
             "#4d9221"
            ],
            [
             1,
             "#276419"
            ]
           ],
           "sequential": [
            [
             0,
             "#0d0887"
            ],
            [
             0.1111111111111111,
             "#46039f"
            ],
            [
             0.2222222222222222,
             "#7201a8"
            ],
            [
             0.3333333333333333,
             "#9c179e"
            ],
            [
             0.4444444444444444,
             "#bd3786"
            ],
            [
             0.5555555555555556,
             "#d8576b"
            ],
            [
             0.6666666666666666,
             "#ed7953"
            ],
            [
             0.7777777777777778,
             "#fb9f3a"
            ],
            [
             0.8888888888888888,
             "#fdca26"
            ],
            [
             1,
             "#f0f921"
            ]
           ],
           "sequentialminus": [
            [
             0,
             "#0d0887"
            ],
            [
             0.1111111111111111,
             "#46039f"
            ],
            [
             0.2222222222222222,
             "#7201a8"
            ],
            [
             0.3333333333333333,
             "#9c179e"
            ],
            [
             0.4444444444444444,
             "#bd3786"
            ],
            [
             0.5555555555555556,
             "#d8576b"
            ],
            [
             0.6666666666666666,
             "#ed7953"
            ],
            [
             0.7777777777777778,
             "#fb9f3a"
            ],
            [
             0.8888888888888888,
             "#fdca26"
            ],
            [
             1,
             "#f0f921"
            ]
           ]
          },
          "colorway": [
           "#636efa",
           "#EF553B",
           "#00cc96",
           "#ab63fa",
           "#FFA15A",
           "#19d3f3",
           "#FF6692",
           "#B6E880",
           "#FF97FF",
           "#FECB52"
          ],
          "font": {
           "color": "#2a3f5f"
          },
          "geo": {
           "bgcolor": "white",
           "lakecolor": "white",
           "landcolor": "#E5ECF6",
           "showlakes": true,
           "showland": true,
           "subunitcolor": "white"
          },
          "hoverlabel": {
           "align": "left"
          },
          "hovermode": "closest",
          "mapbox": {
           "style": "light"
          },
          "paper_bgcolor": "white",
          "plot_bgcolor": "#E5ECF6",
          "polar": {
           "angularaxis": {
            "gridcolor": "white",
            "linecolor": "white",
            "ticks": ""
           },
           "bgcolor": "#E5ECF6",
           "radialaxis": {
            "gridcolor": "white",
            "linecolor": "white",
            "ticks": ""
           }
          },
          "scene": {
           "xaxis": {
            "backgroundcolor": "#E5ECF6",
            "gridcolor": "white",
            "gridwidth": 2,
            "linecolor": "white",
            "showbackground": true,
            "ticks": "",
            "zerolinecolor": "white"
           },
           "yaxis": {
            "backgroundcolor": "#E5ECF6",
            "gridcolor": "white",
            "gridwidth": 2,
            "linecolor": "white",
            "showbackground": true,
            "ticks": "",
            "zerolinecolor": "white"
           },
           "zaxis": {
            "backgroundcolor": "#E5ECF6",
            "gridcolor": "white",
            "gridwidth": 2,
            "linecolor": "white",
            "showbackground": true,
            "ticks": "",
            "zerolinecolor": "white"
           }
          },
          "shapedefaults": {
           "line": {
            "color": "#2a3f5f"
           }
          },
          "ternary": {
           "aaxis": {
            "gridcolor": "white",
            "linecolor": "white",
            "ticks": ""
           },
           "baxis": {
            "gridcolor": "white",
            "linecolor": "white",
            "ticks": ""
           },
           "bgcolor": "#E5ECF6",
           "caxis": {
            "gridcolor": "white",
            "linecolor": "white",
            "ticks": ""
           }
          },
          "title": {
           "x": 0.05
          },
          "xaxis": {
           "automargin": true,
           "gridcolor": "white",
           "linecolor": "white",
           "ticks": "",
           "title": {
            "standoff": 15
           },
           "zerolinecolor": "white",
           "zerolinewidth": 2
          },
          "yaxis": {
           "automargin": true,
           "gridcolor": "white",
           "linecolor": "white",
           "ticks": "",
           "title": {
            "standoff": 15
           },
           "zerolinecolor": "white",
           "zerolinewidth": 2
          }
         }
        },
        "title": {
         "text": "Telemindex 2024: Precios medios diarios de indexadosegún tarifas de acceso"
        },
        "xaxis": {
         "anchor": "y",
         "domain": [
          0,
          0.31999999999999995
         ],
         "title": {
          "text": "dia"
         }
        },
        "xaxis2": {
         "anchor": "y2",
         "domain": [
          0.33999999999999997,
          0.6599999999999999
         ],
         "matches": "x",
         "title": {
          "text": "dia"
         }
        },
        "xaxis3": {
         "anchor": "y3",
         "domain": [
          0.6799999999999999,
          0.9999999999999999
         ],
         "matches": "x",
         "title": {
          "text": "dia"
         }
        },
        "xaxis4": {
         "anchor": "y4",
         "domain": [
          0,
          0.31999999999999995
         ],
         "matches": "x",
         "showticklabels": false
        },
        "xaxis5": {
         "anchor": "y5",
         "domain": [
          0.33999999999999997,
          0.6599999999999999
         ],
         "matches": "x",
         "showticklabels": false
        },
        "xaxis6": {
         "anchor": "y6",
         "domain": [
          0.6799999999999999,
          0.9999999999999999
         ],
         "matches": "x",
         "showticklabels": false
        },
        "yaxis": {
         "anchor": "x",
         "domain": [
          0,
          0.46499999999999997
         ],
         "title": {
          "text": "€/MWh"
         }
        },
        "yaxis2": {
         "anchor": "x2",
         "domain": [
          0,
          0.46499999999999997
         ],
         "matches": "y",
         "showticklabels": false
        },
        "yaxis3": {
         "anchor": "x3",
         "domain": [
          0,
          0.46499999999999997
         ],
         "matches": "y",
         "showticklabels": false
        },
        "yaxis4": {
         "anchor": "x4",
         "domain": [
          0.5349999999999999,
          0.9999999999999999
         ],
         "matches": "y",
         "title": {
          "text": "€/MWh"
         }
        },
        "yaxis5": {
         "anchor": "x5",
         "domain": [
          0.5349999999999999,
          0.9999999999999999
         ],
         "matches": "y",
         "showticklabels": false
        },
        "yaxis6": {
         "anchor": "x6",
         "domain": [
          0.5349999999999999,
          0.9999999999999999
         ],
         "matches": "y",
         "showticklabels": false
        }
       }
      }
     },
     "metadata": {},
     "output_type": "display_data"
    }
   ],
   "source": [
    "graf=px.line(dff_dia, x='dia', y=['precio_2.0', 'precio_3.0', 'precio_6.1'], facet_col = 'mes', facet_col_wrap=3,\n",
    "    height=1000,\n",
    "    title=\"Telemindex 2024: Precios medios diarios de indexadosegún tarifas de acceso\",\n",
    "    labels={'value':'€/MWh','variable':'Precios s/ ATR'}\n",
    "    \n",
    "    \n",
    "    )\n",
    "graf"
   ]
  },
  {
   "cell_type": "markdown",
   "metadata": {},
   "source": [
    "## Parte 2. Telemindex horario para streamlit"
   ]
  },
  {
   "cell_type": "code",
   "execution_count": 16,
   "metadata": {},
   "outputs": [
    {
     "data": {
      "text/html": [
       "<div>\n",
       "<style scoped>\n",
       "    .dataframe tbody tr th:only-of-type {\n",
       "        vertical-align: middle;\n",
       "    }\n",
       "\n",
       "    .dataframe tbody tr th {\n",
       "        vertical-align: top;\n",
       "    }\n",
       "\n",
       "    .dataframe thead th {\n",
       "        text-align: right;\n",
       "    }\n",
       "</style>\n",
       "<table border=\"1\" class=\"dataframe\">\n",
       "  <thead>\n",
       "    <tr style=\"text-align: right;\">\n",
       "      <th></th>\n",
       "      <th>año</th>\n",
       "      <th>mes</th>\n",
       "      <th>mes_nombre</th>\n",
       "      <th>dia</th>\n",
       "      <th>dia_semana</th>\n",
       "      <th>hora</th>\n",
       "      <th>dh_6p</th>\n",
       "      <th>dh_3p</th>\n",
       "      <th>pmh</th>\n",
       "      <th>ssaa</th>\n",
       "      <th>...</th>\n",
       "      <th>perd_2.0</th>\n",
       "      <th>perd_3.0</th>\n",
       "      <th>perd_6.1</th>\n",
       "      <th>pyc_2.0</th>\n",
       "      <th>pyc_3.0</th>\n",
       "      <th>pyc_6.1</th>\n",
       "      <th>precio_2.0</th>\n",
       "      <th>precio_3.0</th>\n",
       "      <th>precio_6.1</th>\n",
       "      <th>demanda_GWh</th>\n",
       "    </tr>\n",
       "    <tr>\n",
       "      <th>fecha</th>\n",
       "      <th></th>\n",
       "      <th></th>\n",
       "      <th></th>\n",
       "      <th></th>\n",
       "      <th></th>\n",
       "      <th></th>\n",
       "      <th></th>\n",
       "      <th></th>\n",
       "      <th></th>\n",
       "      <th></th>\n",
       "      <th></th>\n",
       "      <th></th>\n",
       "      <th></th>\n",
       "      <th></th>\n",
       "      <th></th>\n",
       "      <th></th>\n",
       "      <th></th>\n",
       "      <th></th>\n",
       "      <th></th>\n",
       "      <th></th>\n",
       "      <th></th>\n",
       "    </tr>\n",
       "  </thead>\n",
       "  <tbody>\n",
       "    <tr>\n",
       "      <th>2024-06-17</th>\n",
       "      <td>2024</td>\n",
       "      <td>6</td>\n",
       "      <td>junio</td>\n",
       "      <td>17</td>\n",
       "      <td>lunes</td>\n",
       "      <td>23</td>\n",
       "      <td>P4</td>\n",
       "      <td>P2</td>\n",
       "      <td>62.78</td>\n",
       "      <td>0.00</td>\n",
       "      <td>...</td>\n",
       "      <td>0.151326</td>\n",
       "      <td>0.153183</td>\n",
       "      <td>0.060345</td>\n",
       "      <td>27.963</td>\n",
       "      <td>10.389</td>\n",
       "      <td>8.037</td>\n",
       "      <td>101.759827</td>\n",
       "      <td>84.468707</td>\n",
       "      <td>75.969892</td>\n",
       "      <td>0.00</td>\n",
       "    </tr>\n",
       "    <tr>\n",
       "      <th>2024-06-17</th>\n",
       "      <td>2024</td>\n",
       "      <td>6</td>\n",
       "      <td>junio</td>\n",
       "      <td>17</td>\n",
       "      <td>lunes</td>\n",
       "      <td>22</td>\n",
       "      <td>P4</td>\n",
       "      <td>P2</td>\n",
       "      <td>91.27</td>\n",
       "      <td>0.00</td>\n",
       "      <td>...</td>\n",
       "      <td>0.153132</td>\n",
       "      <td>0.155011</td>\n",
       "      <td>0.061065</td>\n",
       "      <td>27.963</td>\n",
       "      <td>10.389</td>\n",
       "      <td>8.037</td>\n",
       "      <td>135.221110</td>\n",
       "      <td>117.986004</td>\n",
       "      <td>106.699218</td>\n",
       "      <td>0.00</td>\n",
       "    </tr>\n",
       "    <tr>\n",
       "      <th>2024-06-17</th>\n",
       "      <td>2024</td>\n",
       "      <td>6</td>\n",
       "      <td>junio</td>\n",
       "      <td>17</td>\n",
       "      <td>lunes</td>\n",
       "      <td>21</td>\n",
       "      <td>P3</td>\n",
       "      <td>P1</td>\n",
       "      <td>72.75</td>\n",
       "      <td>0.00</td>\n",
       "      <td>...</td>\n",
       "      <td>0.149457</td>\n",
       "      <td>0.147667</td>\n",
       "      <td>0.058172</td>\n",
       "      <td>76.974</td>\n",
       "      <td>17.361</td>\n",
       "      <td>12.716</td>\n",
       "      <td>163.193019</td>\n",
       "      <td>102.805076</td>\n",
       "      <td>91.260862</td>\n",
       "      <td>0.00</td>\n",
       "    </tr>\n",
       "    <tr>\n",
       "      <th>2024-06-17</th>\n",
       "      <td>2024</td>\n",
       "      <td>6</td>\n",
       "      <td>junio</td>\n",
       "      <td>17</td>\n",
       "      <td>lunes</td>\n",
       "      <td>20</td>\n",
       "      <td>P3</td>\n",
       "      <td>P1</td>\n",
       "      <td>46.38</td>\n",
       "      <td>0.00</td>\n",
       "      <td>...</td>\n",
       "      <td>0.151315</td>\n",
       "      <td>0.149503</td>\n",
       "      <td>0.058895</td>\n",
       "      <td>76.974</td>\n",
       "      <td>17.361</td>\n",
       "      <td>12.716</td>\n",
       "      <td>132.516849</td>\n",
       "      <td>72.174715</td>\n",
       "      <td>62.972649</td>\n",
       "      <td>0.00</td>\n",
       "    </tr>\n",
       "    <tr>\n",
       "      <th>2024-06-17</th>\n",
       "      <td>2024</td>\n",
       "      <td>6</td>\n",
       "      <td>junio</td>\n",
       "      <td>17</td>\n",
       "      <td>lunes</td>\n",
       "      <td>19</td>\n",
       "      <td>P3</td>\n",
       "      <td>P1</td>\n",
       "      <td>21.72</td>\n",
       "      <td>0.00</td>\n",
       "      <td>...</td>\n",
       "      <td>0.148824</td>\n",
       "      <td>0.147041</td>\n",
       "      <td>0.057925</td>\n",
       "      <td>76.974</td>\n",
       "      <td>17.361</td>\n",
       "      <td>12.716</td>\n",
       "      <td>103.641702</td>\n",
       "      <td>43.346994</td>\n",
       "      <td>36.446854</td>\n",
       "      <td>0.00</td>\n",
       "    </tr>\n",
       "    <tr>\n",
       "      <th>...</th>\n",
       "      <td>...</td>\n",
       "      <td>...</td>\n",
       "      <td>...</td>\n",
       "      <td>...</td>\n",
       "      <td>...</td>\n",
       "      <td>...</td>\n",
       "      <td>...</td>\n",
       "      <td>...</td>\n",
       "      <td>...</td>\n",
       "      <td>...</td>\n",
       "      <td>...</td>\n",
       "      <td>...</td>\n",
       "      <td>...</td>\n",
       "      <td>...</td>\n",
       "      <td>...</td>\n",
       "      <td>...</td>\n",
       "      <td>...</td>\n",
       "      <td>...</td>\n",
       "      <td>...</td>\n",
       "      <td>...</td>\n",
       "      <td>...</td>\n",
       "    </tr>\n",
       "    <tr>\n",
       "      <th>2024-01-01</th>\n",
       "      <td>2024</td>\n",
       "      <td>1</td>\n",
       "      <td>enero</td>\n",
       "      <td>1</td>\n",
       "      <td>lunes</td>\n",
       "      <td>4</td>\n",
       "      <td>P6</td>\n",
       "      <td>P3</td>\n",
       "      <td>42.50</td>\n",
       "      <td>22.69</td>\n",
       "      <td>...</td>\n",
       "      <td>0.276025</td>\n",
       "      <td>0.276025</td>\n",
       "      <td>0.118077</td>\n",
       "      <td>2.752</td>\n",
       "      <td>2.192</td>\n",
       "      <td>1.276</td>\n",
       "      <td>87.468741</td>\n",
       "      <td>86.908741</td>\n",
       "      <td>75.506430</td>\n",
       "      <td>18.14</td>\n",
       "    </tr>\n",
       "    <tr>\n",
       "      <th>2024-01-01</th>\n",
       "      <td>2024</td>\n",
       "      <td>1</td>\n",
       "      <td>enero</td>\n",
       "      <td>1</td>\n",
       "      <td>lunes</td>\n",
       "      <td>3</td>\n",
       "      <td>P6</td>\n",
       "      <td>P3</td>\n",
       "      <td>43.50</td>\n",
       "      <td>20.86</td>\n",
       "      <td>...</td>\n",
       "      <td>0.268402</td>\n",
       "      <td>0.268402</td>\n",
       "      <td>0.114816</td>\n",
       "      <td>2.752</td>\n",
       "      <td>2.192</td>\n",
       "      <td>1.276</td>\n",
       "      <td>85.894076</td>\n",
       "      <td>85.334076</td>\n",
       "      <td>74.350755</td>\n",
       "      <td>18.87</td>\n",
       "    </tr>\n",
       "    <tr>\n",
       "      <th>2024-01-01</th>\n",
       "      <td>2024</td>\n",
       "      <td>1</td>\n",
       "      <td>enero</td>\n",
       "      <td>1</td>\n",
       "      <td>lunes</td>\n",
       "      <td>2</td>\n",
       "      <td>P6</td>\n",
       "      <td>P3</td>\n",
       "      <td>47.50</td>\n",
       "      <td>19.05</td>\n",
       "      <td>...</td>\n",
       "      <td>0.257177</td>\n",
       "      <td>0.257177</td>\n",
       "      <td>0.110015</td>\n",
       "      <td>2.752</td>\n",
       "      <td>2.192</td>\n",
       "      <td>1.276</td>\n",
       "      <td>87.952820</td>\n",
       "      <td>87.392820</td>\n",
       "      <td>76.503405</td>\n",
       "      <td>20.03</td>\n",
       "    </tr>\n",
       "    <tr>\n",
       "      <th>2024-01-01</th>\n",
       "      <td>2024</td>\n",
       "      <td>1</td>\n",
       "      <td>enero</td>\n",
       "      <td>1</td>\n",
       "      <td>lunes</td>\n",
       "      <td>1</td>\n",
       "      <td>P6</td>\n",
       "      <td>P3</td>\n",
       "      <td>50.09</td>\n",
       "      <td>20.75</td>\n",
       "      <td>...</td>\n",
       "      <td>0.243274</td>\n",
       "      <td>0.243274</td>\n",
       "      <td>0.104067</td>\n",
       "      <td>2.752</td>\n",
       "      <td>2.192</td>\n",
       "      <td>1.276</td>\n",
       "      <td>92.424227</td>\n",
       "      <td>91.864227</td>\n",
       "      <td>80.907829</td>\n",
       "      <td>21.20</td>\n",
       "    </tr>\n",
       "    <tr>\n",
       "      <th>2024-01-01</th>\n",
       "      <td>2024</td>\n",
       "      <td>1</td>\n",
       "      <td>enero</td>\n",
       "      <td>1</td>\n",
       "      <td>lunes</td>\n",
       "      <td>0</td>\n",
       "      <td>P6</td>\n",
       "      <td>P3</td>\n",
       "      <td>63.33</td>\n",
       "      <td>15.41</td>\n",
       "      <td>...</td>\n",
       "      <td>0.237544</td>\n",
       "      <td>0.237544</td>\n",
       "      <td>0.101616</td>\n",
       "      <td>2.752</td>\n",
       "      <td>2.192</td>\n",
       "      <td>1.276</td>\n",
       "      <td>101.934237</td>\n",
       "      <td>101.374237</td>\n",
       "      <td>89.564364</td>\n",
       "      <td>21.86</td>\n",
       "    </tr>\n",
       "  </tbody>\n",
       "</table>\n",
       "<p>4055 rows × 29 columns</p>\n",
       "</div>"
      ],
      "text/plain": [
       "             año  mes mes_nombre  dia dia_semana  hora dh_6p dh_3p    pmh  \\\n",
       "fecha                                                                       \n",
       "2024-06-17  2024    6      junio   17      lunes    23    P4    P2  62.78   \n",
       "2024-06-17  2024    6      junio   17      lunes    22    P4    P2  91.27   \n",
       "2024-06-17  2024    6      junio   17      lunes    21    P3    P1  72.75   \n",
       "2024-06-17  2024    6      junio   17      lunes    20    P3    P1  46.38   \n",
       "2024-06-17  2024    6      junio   17      lunes    19    P3    P1  21.72   \n",
       "...          ...  ...        ...  ...        ...   ...   ...   ...    ...   \n",
       "2024-01-01  2024    1      enero    1      lunes     4    P6    P3  42.50   \n",
       "2024-01-01  2024    1      enero    1      lunes     3    P6    P3  43.50   \n",
       "2024-01-01  2024    1      enero    1      lunes     2    P6    P3  47.50   \n",
       "2024-01-01  2024    1      enero    1      lunes     1    P6    P3  50.09   \n",
       "2024-01-01  2024    1      enero    1      lunes     0    P6    P3  63.33   \n",
       "\n",
       "             ssaa  ...  perd_2.0  perd_3.0  perd_6.1  pyc_2.0  pyc_3.0  \\\n",
       "fecha              ...                                                   \n",
       "2024-06-17   0.00  ...  0.151326  0.153183  0.060345   27.963   10.389   \n",
       "2024-06-17   0.00  ...  0.153132  0.155011  0.061065   27.963   10.389   \n",
       "2024-06-17   0.00  ...  0.149457  0.147667  0.058172   76.974   17.361   \n",
       "2024-06-17   0.00  ...  0.151315  0.149503  0.058895   76.974   17.361   \n",
       "2024-06-17   0.00  ...  0.148824  0.147041  0.057925   76.974   17.361   \n",
       "...           ...  ...       ...       ...       ...      ...      ...   \n",
       "2024-01-01  22.69  ...  0.276025  0.276025  0.118077    2.752    2.192   \n",
       "2024-01-01  20.86  ...  0.268402  0.268402  0.114816    2.752    2.192   \n",
       "2024-01-01  19.05  ...  0.257177  0.257177  0.110015    2.752    2.192   \n",
       "2024-01-01  20.75  ...  0.243274  0.243274  0.104067    2.752    2.192   \n",
       "2024-01-01  15.41  ...  0.237544  0.237544  0.101616    2.752    2.192   \n",
       "\n",
       "            pyc_6.1  precio_2.0  precio_3.0  precio_6.1  demanda_GWh  \n",
       "fecha                                                                 \n",
       "2024-06-17    8.037  101.759827   84.468707   75.969892         0.00  \n",
       "2024-06-17    8.037  135.221110  117.986004  106.699218         0.00  \n",
       "2024-06-17   12.716  163.193019  102.805076   91.260862         0.00  \n",
       "2024-06-17   12.716  132.516849   72.174715   62.972649         0.00  \n",
       "2024-06-17   12.716  103.641702   43.346994   36.446854         0.00  \n",
       "...             ...         ...         ...         ...          ...  \n",
       "2024-01-01    1.276   87.468741   86.908741   75.506430        18.14  \n",
       "2024-01-01    1.276   85.894076   85.334076   74.350755        18.87  \n",
       "2024-01-01    1.276   87.952820   87.392820   76.503405        20.03  \n",
       "2024-01-01    1.276   92.424227   91.864227   80.907829        21.20  \n",
       "2024-01-01    1.276  101.934237  101.374237   89.564364        21.86  \n",
       "\n",
       "[4055 rows x 29 columns]"
      ]
     },
     "execution_count": 16,
     "metadata": {},
     "output_type": "execute_result"
    }
   ],
   "source": [
    "dff"
   ]
  },
  {
   "cell_type": "code",
   "execution_count": 17,
   "metadata": {},
   "outputs": [
    {
     "data": {
      "text/plain": [
       "Index(['año', 'mes', 'mes_nombre', 'dia', 'dia_semana', 'hora', 'dh_6p',\n",
       "       'dh_3p', 'pmh', 'ssaa', 'spot', 'osom', 'ppcc_2.0', 'ppcc_3.0',\n",
       "       'ppcc_6.1', 'perd_2.0_boe', 'perd_3.0_boe', 'perd_6.1_boe', 'coef_k',\n",
       "       'perd_2.0', 'perd_3.0', 'perd_6.1', 'pyc_2.0', 'pyc_3.0', 'pyc_6.1',\n",
       "       'precio_2.0', 'precio_3.0', 'precio_6.1', 'demanda_GWh'],\n",
       "      dtype='object')"
      ]
     },
     "execution_count": 17,
     "metadata": {},
     "output_type": "execute_result"
    }
   ],
   "source": [
    "dff.columns"
   ]
  },
  {
   "cell_type": "code",
   "execution_count": 18,
   "metadata": {},
   "outputs": [
    {
     "data": {
      "text/html": [
       "<div>\n",
       "<style scoped>\n",
       "    .dataframe tbody tr th:only-of-type {\n",
       "        vertical-align: middle;\n",
       "    }\n",
       "\n",
       "    .dataframe tbody tr th {\n",
       "        vertical-align: top;\n",
       "    }\n",
       "\n",
       "    .dataframe thead th {\n",
       "        text-align: right;\n",
       "    }\n",
       "</style>\n",
       "<table border=\"1\" class=\"dataframe\">\n",
       "  <thead>\n",
       "    <tr style=\"text-align: right;\">\n",
       "      <th></th>\n",
       "      <th>hora</th>\n",
       "      <th>precio_2.0</th>\n",
       "      <th>precio_3.0</th>\n",
       "      <th>precio_6.1</th>\n",
       "      <th>spot</th>\n",
       "    </tr>\n",
       "  </thead>\n",
       "  <tbody>\n",
       "    <tr>\n",
       "      <th>0</th>\n",
       "      <td>0</td>\n",
       "      <td>66.146928</td>\n",
       "      <td>65.586928</td>\n",
       "      <td>58.332306</td>\n",
       "      <td>41.761183</td>\n",
       "    </tr>\n",
       "    <tr>\n",
       "      <th>1</th>\n",
       "      <td>1</td>\n",
       "      <td>62.513910</td>\n",
       "      <td>61.953910</td>\n",
       "      <td>54.898262</td>\n",
       "      <td>37.349586</td>\n",
       "    </tr>\n",
       "    <tr>\n",
       "      <th>2</th>\n",
       "      <td>2</td>\n",
       "      <td>61.339655</td>\n",
       "      <td>60.779655</td>\n",
       "      <td>53.753868</td>\n",
       "      <td>35.182440</td>\n",
       "    </tr>\n",
       "    <tr>\n",
       "      <th>3</th>\n",
       "      <td>3</td>\n",
       "      <td>61.319729</td>\n",
       "      <td>60.759729</td>\n",
       "      <td>53.700967</td>\n",
       "      <td>33.928580</td>\n",
       "    </tr>\n",
       "    <tr>\n",
       "      <th>4</th>\n",
       "      <td>4</td>\n",
       "      <td>60.698743</td>\n",
       "      <td>60.138743</td>\n",
       "      <td>53.151004</td>\n",
       "      <td>33.152308</td>\n",
       "    </tr>\n",
       "    <tr>\n",
       "      <th>5</th>\n",
       "      <td>5</td>\n",
       "      <td>62.455247</td>\n",
       "      <td>61.895247</td>\n",
       "      <td>54.804226</td>\n",
       "      <td>34.959172</td>\n",
       "    </tr>\n",
       "    <tr>\n",
       "      <th>6</th>\n",
       "      <td>6</td>\n",
       "      <td>67.876006</td>\n",
       "      <td>67.316006</td>\n",
       "      <td>59.983454</td>\n",
       "      <td>40.025503</td>\n",
       "    </tr>\n",
       "    <tr>\n",
       "      <th>7</th>\n",
       "      <td>7</td>\n",
       "      <td>81.197438</td>\n",
       "      <td>80.637438</td>\n",
       "      <td>72.387106</td>\n",
       "      <td>50.220178</td>\n",
       "    </tr>\n",
       "    <tr>\n",
       "      <th>8</th>\n",
       "      <td>8</td>\n",
       "      <td>98.897652</td>\n",
       "      <td>90.815180</td>\n",
       "      <td>79.155965</td>\n",
       "      <td>48.457811</td>\n",
       "    </tr>\n",
       "    <tr>\n",
       "      <th>9</th>\n",
       "      <td>9</td>\n",
       "      <td>81.767336</td>\n",
       "      <td>82.531269</td>\n",
       "      <td>70.893172</td>\n",
       "      <td>37.063728</td>\n",
       "    </tr>\n",
       "    <tr>\n",
       "      <th>10</th>\n",
       "      <td>10</td>\n",
       "      <td>102.786449</td>\n",
       "      <td>68.219192</td>\n",
       "      <td>58.000528</td>\n",
       "      <td>29.056272</td>\n",
       "    </tr>\n",
       "    <tr>\n",
       "      <th>11</th>\n",
       "      <td>11</td>\n",
       "      <td>96.381801</td>\n",
       "      <td>61.815593</td>\n",
       "      <td>52.167175</td>\n",
       "      <td>24.159763</td>\n",
       "    </tr>\n",
       "    <tr>\n",
       "      <th>12</th>\n",
       "      <td>12</td>\n",
       "      <td>94.825872</td>\n",
       "      <td>60.260633</td>\n",
       "      <td>50.782748</td>\n",
       "      <td>22.423905</td>\n",
       "    </tr>\n",
       "    <tr>\n",
       "      <th>13</th>\n",
       "      <td>13</td>\n",
       "      <td>93.451848</td>\n",
       "      <td>58.888214</td>\n",
       "      <td>49.574314</td>\n",
       "      <td>20.843609</td>\n",
       "    </tr>\n",
       "    <tr>\n",
       "      <th>14</th>\n",
       "      <td>14</td>\n",
       "      <td>57.398013</td>\n",
       "      <td>49.470957</td>\n",
       "      <td>42.106188</td>\n",
       "      <td>20.190828</td>\n",
       "    </tr>\n",
       "    <tr>\n",
       "      <th>15</th>\n",
       "      <td>15</td>\n",
       "      <td>58.085534</td>\n",
       "      <td>50.173825</td>\n",
       "      <td>42.622807</td>\n",
       "      <td>20.058580</td>\n",
       "    </tr>\n",
       "    <tr>\n",
       "      <th>16</th>\n",
       "      <td>16</td>\n",
       "      <td>61.770197</td>\n",
       "      <td>53.873859</td>\n",
       "      <td>45.852105</td>\n",
       "      <td>22.151479</td>\n",
       "    </tr>\n",
       "    <tr>\n",
       "      <th>17</th>\n",
       "      <td>17</td>\n",
       "      <td>70.429874</td>\n",
       "      <td>62.575685</td>\n",
       "      <td>53.583103</td>\n",
       "      <td>27.814142</td>\n",
       "    </tr>\n",
       "    <tr>\n",
       "      <th>18</th>\n",
       "      <td>18</td>\n",
       "      <td>116.257024</td>\n",
       "      <td>81.706010</td>\n",
       "      <td>69.877685</td>\n",
       "      <td>36.064911</td>\n",
       "    </tr>\n",
       "    <tr>\n",
       "      <th>19</th>\n",
       "      <td>19</td>\n",
       "      <td>135.219576</td>\n",
       "      <td>100.685527</td>\n",
       "      <td>87.055675</td>\n",
       "      <td>48.481657</td>\n",
       "    </tr>\n",
       "    <tr>\n",
       "      <th>20</th>\n",
       "      <td>20</td>\n",
       "      <td>150.431626</td>\n",
       "      <td>115.892116</td>\n",
       "      <td>100.852761</td>\n",
       "      <td>60.718047</td>\n",
       "    </tr>\n",
       "    <tr>\n",
       "      <th>21</th>\n",
       "      <td>21</td>\n",
       "      <td>149.913799</td>\n",
       "      <td>115.352915</td>\n",
       "      <td>100.415406</td>\n",
       "      <td>63.204142</td>\n",
       "    </tr>\n",
       "    <tr>\n",
       "      <th>22</th>\n",
       "      <td>22</td>\n",
       "      <td>104.002747</td>\n",
       "      <td>95.805890</td>\n",
       "      <td>83.377213</td>\n",
       "      <td>54.887692</td>\n",
       "    </tr>\n",
       "    <tr>\n",
       "      <th>23</th>\n",
       "      <td>23</td>\n",
       "      <td>94.038920</td>\n",
       "      <td>85.887955</td>\n",
       "      <td>74.303577</td>\n",
       "      <td>46.096391</td>\n",
       "    </tr>\n",
       "  </tbody>\n",
       "</table>\n",
       "</div>"
      ],
      "text/plain": [
       "    hora  precio_2.0  precio_3.0  precio_6.1       spot\n",
       "0      0   66.146928   65.586928   58.332306  41.761183\n",
       "1      1   62.513910   61.953910   54.898262  37.349586\n",
       "2      2   61.339655   60.779655   53.753868  35.182440\n",
       "3      3   61.319729   60.759729   53.700967  33.928580\n",
       "4      4   60.698743   60.138743   53.151004  33.152308\n",
       "5      5   62.455247   61.895247   54.804226  34.959172\n",
       "6      6   67.876006   67.316006   59.983454  40.025503\n",
       "7      7   81.197438   80.637438   72.387106  50.220178\n",
       "8      8   98.897652   90.815180   79.155965  48.457811\n",
       "9      9   81.767336   82.531269   70.893172  37.063728\n",
       "10    10  102.786449   68.219192   58.000528  29.056272\n",
       "11    11   96.381801   61.815593   52.167175  24.159763\n",
       "12    12   94.825872   60.260633   50.782748  22.423905\n",
       "13    13   93.451848   58.888214   49.574314  20.843609\n",
       "14    14   57.398013   49.470957   42.106188  20.190828\n",
       "15    15   58.085534   50.173825   42.622807  20.058580\n",
       "16    16   61.770197   53.873859   45.852105  22.151479\n",
       "17    17   70.429874   62.575685   53.583103  27.814142\n",
       "18    18  116.257024   81.706010   69.877685  36.064911\n",
       "19    19  135.219576  100.685527   87.055675  48.481657\n",
       "20    20  150.431626  115.892116  100.852761  60.718047\n",
       "21    21  149.913799  115.352915  100.415406  63.204142\n",
       "22    22  104.002747   95.805890   83.377213  54.887692\n",
       "23    23   94.038920   85.887955   74.303577  46.096391"
      ]
     },
     "execution_count": 18,
     "metadata": {},
     "output_type": "execute_result"
    }
   ],
   "source": [
    "pt1=dff.pivot_table(\n",
    "    values=['spot','precio_2.0','precio_3.0','precio_6.1'],\n",
    "    index='hora',\n",
    "    aggfunc='mean'\n",
    ")\n",
    "pt1=pt1.reset_index()\n",
    "pt1"
   ]
  },
  {
   "cell_type": "code",
   "execution_count": 81,
   "metadata": {},
   "outputs": [
    {
     "data": {
      "text/html": [
       "<div>\n",
       "<style scoped>\n",
       "    .dataframe tbody tr th:only-of-type {\n",
       "        vertical-align: middle;\n",
       "    }\n",
       "\n",
       "    .dataframe tbody tr th {\n",
       "        vertical-align: top;\n",
       "    }\n",
       "\n",
       "    .dataframe thead th {\n",
       "        text-align: right;\n",
       "    }\n",
       "</style>\n",
       "<table border=\"1\" class=\"dataframe\">\n",
       "  <thead>\n",
       "    <tr style=\"text-align: right;\">\n",
       "      <th>peajes</th>\n",
       "      <th>0</th>\n",
       "      <th>1</th>\n",
       "      <th>2</th>\n",
       "      <th>3</th>\n",
       "      <th>4</th>\n",
       "      <th>5</th>\n",
       "      <th>6</th>\n",
       "      <th>7</th>\n",
       "      <th>8</th>\n",
       "      <th>9</th>\n",
       "      <th>...</th>\n",
       "      <th>14</th>\n",
       "      <th>15</th>\n",
       "      <th>16</th>\n",
       "      <th>17</th>\n",
       "      <th>18</th>\n",
       "      <th>19</th>\n",
       "      <th>20</th>\n",
       "      <th>21</th>\n",
       "      <th>22</th>\n",
       "      <th>23</th>\n",
       "    </tr>\n",
       "  </thead>\n",
       "  <tbody>\n",
       "    <tr>\n",
       "      <th>precio_2.0</th>\n",
       "      <td>66.146928</td>\n",
       "      <td>62.513910</td>\n",
       "      <td>61.339655</td>\n",
       "      <td>61.319729</td>\n",
       "      <td>60.698743</td>\n",
       "      <td>62.455247</td>\n",
       "      <td>67.876006</td>\n",
       "      <td>81.197438</td>\n",
       "      <td>98.897652</td>\n",
       "      <td>81.767336</td>\n",
       "      <td>...</td>\n",
       "      <td>57.398013</td>\n",
       "      <td>58.085534</td>\n",
       "      <td>61.770197</td>\n",
       "      <td>70.429874</td>\n",
       "      <td>116.257024</td>\n",
       "      <td>135.219576</td>\n",
       "      <td>150.431626</td>\n",
       "      <td>149.913799</td>\n",
       "      <td>104.002747</td>\n",
       "      <td>94.038920</td>\n",
       "    </tr>\n",
       "    <tr>\n",
       "      <th>precio_3.0</th>\n",
       "      <td>65.586928</td>\n",
       "      <td>61.953910</td>\n",
       "      <td>60.779655</td>\n",
       "      <td>60.759729</td>\n",
       "      <td>60.138743</td>\n",
       "      <td>61.895247</td>\n",
       "      <td>67.316006</td>\n",
       "      <td>80.637438</td>\n",
       "      <td>90.815180</td>\n",
       "      <td>82.531269</td>\n",
       "      <td>...</td>\n",
       "      <td>49.470957</td>\n",
       "      <td>50.173825</td>\n",
       "      <td>53.873859</td>\n",
       "      <td>62.575685</td>\n",
       "      <td>81.706010</td>\n",
       "      <td>100.685527</td>\n",
       "      <td>115.892116</td>\n",
       "      <td>115.352915</td>\n",
       "      <td>95.805890</td>\n",
       "      <td>85.887955</td>\n",
       "    </tr>\n",
       "    <tr>\n",
       "      <th>precio_6.1</th>\n",
       "      <td>58.332306</td>\n",
       "      <td>54.898262</td>\n",
       "      <td>53.753868</td>\n",
       "      <td>53.700967</td>\n",
       "      <td>53.151004</td>\n",
       "      <td>54.804226</td>\n",
       "      <td>59.983454</td>\n",
       "      <td>72.387106</td>\n",
       "      <td>79.155965</td>\n",
       "      <td>70.893172</td>\n",
       "      <td>...</td>\n",
       "      <td>42.106188</td>\n",
       "      <td>42.622807</td>\n",
       "      <td>45.852105</td>\n",
       "      <td>53.583103</td>\n",
       "      <td>69.877685</td>\n",
       "      <td>87.055675</td>\n",
       "      <td>100.852761</td>\n",
       "      <td>100.415406</td>\n",
       "      <td>83.377213</td>\n",
       "      <td>74.303577</td>\n",
       "    </tr>\n",
       "    <tr>\n",
       "      <th>spot</th>\n",
       "      <td>41.761183</td>\n",
       "      <td>37.349586</td>\n",
       "      <td>35.182440</td>\n",
       "      <td>33.928580</td>\n",
       "      <td>33.152308</td>\n",
       "      <td>34.959172</td>\n",
       "      <td>40.025503</td>\n",
       "      <td>50.220178</td>\n",
       "      <td>48.457811</td>\n",
       "      <td>37.063728</td>\n",
       "      <td>...</td>\n",
       "      <td>20.190828</td>\n",
       "      <td>20.058580</td>\n",
       "      <td>22.151479</td>\n",
       "      <td>27.814142</td>\n",
       "      <td>36.064911</td>\n",
       "      <td>48.481657</td>\n",
       "      <td>60.718047</td>\n",
       "      <td>63.204142</td>\n",
       "      <td>54.887692</td>\n",
       "      <td>46.096391</td>\n",
       "    </tr>\n",
       "  </tbody>\n",
       "</table>\n",
       "<p>4 rows × 24 columns</p>\n",
       "</div>"
      ],
      "text/plain": [
       "peajes             0          1          2          3          4          5   \\\n",
       "precio_2.0  66.146928  62.513910  61.339655  61.319729  60.698743  62.455247   \n",
       "precio_3.0  65.586928  61.953910  60.779655  60.759729  60.138743  61.895247   \n",
       "precio_6.1  58.332306  54.898262  53.753868  53.700967  53.151004  54.804226   \n",
       "spot        41.761183  37.349586  35.182440  33.928580  33.152308  34.959172   \n",
       "\n",
       "peajes             6          7          8          9   ...         14  \\\n",
       "precio_2.0  67.876006  81.197438  98.897652  81.767336  ...  57.398013   \n",
       "precio_3.0  67.316006  80.637438  90.815180  82.531269  ...  49.470957   \n",
       "precio_6.1  59.983454  72.387106  79.155965  70.893172  ...  42.106188   \n",
       "spot        40.025503  50.220178  48.457811  37.063728  ...  20.190828   \n",
       "\n",
       "peajes             15         16         17          18          19  \\\n",
       "precio_2.0  58.085534  61.770197  70.429874  116.257024  135.219576   \n",
       "precio_3.0  50.173825  53.873859  62.575685   81.706010  100.685527   \n",
       "precio_6.1  42.622807  45.852105  53.583103   69.877685   87.055675   \n",
       "spot        20.058580  22.151479  27.814142   36.064911   48.481657   \n",
       "\n",
       "peajes              20          21          22         23  \n",
       "precio_2.0  150.431626  149.913799  104.002747  94.038920  \n",
       "precio_3.0  115.892116  115.352915   95.805890  85.887955  \n",
       "precio_6.1  100.852761  100.415406   83.377213  74.303577  \n",
       "spot         60.718047   63.204142   54.887692  46.096391  \n",
       "\n",
       "[4 rows x 24 columns]"
      ]
     },
     "execution_count": 81,
     "metadata": {},
     "output_type": "execute_result"
    }
   ],
   "source": [
    "pt1_trans=pt1.transpose()\n",
    "pt1_trans=pt1_trans.drop(['hora'])\n",
    "pt1_trans.columns.name='peajes'\n",
    "pt1_trans"
   ]
  },
  {
   "cell_type": "code",
   "execution_count": 23,
   "metadata": {},
   "outputs": [],
   "source": [
    "colores_precios = {'precio_2.0': 'goldenrod', 'precio_3.0': 'darkred', 'precio_6.1': 'blue'}"
   ]
  },
  {
   "cell_type": "code",
   "execution_count": 69,
   "metadata": {},
   "outputs": [
    {
     "data": {
      "application/vnd.plotly.v1+json": {
       "config": {
        "plotlyServerURL": "https://plot.ly"
       },
       "data": [
        {
         "hovertemplate": "Precios s/ ATR=precio_2.0<br>hora=%{x}<br>€/MWh=%{y}<extra></extra>",
         "legendgroup": "precio_2.0",
         "line": {
          "color": "goldenrod",
          "dash": "solid",
          "width": 4
         },
         "marker": {
          "symbol": "circle"
         },
         "mode": "lines",
         "name": "precio_2.0",
         "orientation": "v",
         "showlegend": true,
         "type": "scatter",
         "x": [
          0,
          1,
          2,
          3,
          4,
          5,
          6,
          7,
          8,
          9,
          10,
          11,
          12,
          13,
          14,
          15,
          16,
          17,
          18,
          19,
          20,
          21,
          22,
          23
         ],
         "xaxis": "x",
         "y": [
          66.14692841706974,
          62.51391023604058,
          61.339655284461244,
          61.31972859136851,
          60.69874346058189,
          62.455246619377924,
          67.87600647325627,
          81.19743818210821,
          98.89765176762305,
          81.76733611546685,
          102.78644893074541,
          96.38180053982072,
          94.82587228154871,
          93.45184834040109,
          57.39801278755372,
          58.08553401452406,
          61.770197218349686,
          70.42987394844201,
          116.2570238168951,
          135.21957552941345,
          150.43162634324617,
          149.9137989784483,
          104.00274735685747,
          94.03891989221216
         ],
         "yaxis": "y"
        },
        {
         "hovertemplate": "Precios s/ ATR=precio_3.0<br>hora=%{x}<br>€/MWh=%{y}<extra></extra>",
         "legendgroup": "precio_3.0",
         "line": {
          "color": "darkred",
          "dash": "solid",
          "width": 4
         },
         "marker": {
          "symbol": "circle"
         },
         "mode": "lines",
         "name": "precio_3.0",
         "orientation": "v",
         "showlegend": true,
         "type": "scatter",
         "x": [
          0,
          1,
          2,
          3,
          4,
          5,
          6,
          7,
          8,
          9,
          10,
          11,
          12,
          13,
          14,
          15,
          16,
          17,
          18,
          19,
          20,
          21,
          22,
          23
         ],
         "xaxis": "x",
         "y": [
          65.58692841706976,
          61.953910236040585,
          60.77965528446124,
          60.759728591368514,
          60.13874346058188,
          61.895246619377914,
          67.31600647325625,
          80.63743818210821,
          90.81518023317126,
          82.53126851601982,
          68.21919242383031,
          61.815592999449976,
          60.26063298566603,
          58.88821413534829,
          49.47095725350235,
          50.17382485809216,
          53.87385878427321,
          62.57568545054584,
          81.70600993603183,
          100.68552651184521,
          115.89211574411259,
          115.35291454223018,
          95.80589040882293,
          85.88795497481152
         ],
         "yaxis": "y"
        },
        {
         "hovertemplate": "Precios s/ ATR=precio_6.1<br>hora=%{x}<br>€/MWh=%{y}<extra></extra>",
         "legendgroup": "precio_6.1",
         "line": {
          "color": "blue",
          "dash": "solid",
          "width": 4
         },
         "marker": {
          "symbol": "circle"
         },
         "mode": "lines",
         "name": "precio_6.1",
         "orientation": "v",
         "showlegend": true,
         "type": "scatter",
         "x": [
          0,
          1,
          2,
          3,
          4,
          5,
          6,
          7,
          8,
          9,
          10,
          11,
          12,
          13,
          14,
          15,
          16,
          17,
          18,
          19,
          20,
          21,
          22,
          23
         ],
         "xaxis": "x",
         "y": [
          58.332306207801736,
          54.89826195928981,
          53.753867503630644,
          53.70096728334906,
          53.15100385938698,
          54.804226379288785,
          59.98345405938474,
          72.38710579598205,
          79.15596508924655,
          70.89317155721643,
          58.00052846076094,
          52.167175078603435,
          50.78274803269551,
          49.57431442441479,
          42.10618841839469,
          42.622806562582774,
          45.85210460442983,
          53.58310329156745,
          69.87768533063385,
          87.05567457836511,
          100.85276058328913,
          100.41540561418452,
          83.37721283386377,
          74.30357717586077
         ],
         "yaxis": "y"
        }
       ],
       "layout": {
        "height": 600,
        "legend": {
         "title": {
          "text": "Precios s/ ATR"
         },
         "tracegroupgap": 0
        },
        "template": {
         "data": {
          "candlestick": [
           {
            "decreasing": {
             "line": {
              "color": "#000033"
             }
            },
            "increasing": {
             "line": {
              "color": "#000032"
             }
            },
            "type": "candlestick"
           }
          ],
          "contour": [
           {
            "colorscale": [
             [
              0,
              "#000011"
             ],
             [
              0.1111111111111111,
              "#000012"
             ],
             [
              0.2222222222222222,
              "#000013"
             ],
             [
              0.3333333333333333,
              "#000014"
             ],
             [
              0.4444444444444444,
              "#000015"
             ],
             [
              0.5555555555555556,
              "#000016"
             ],
             [
              0.6666666666666666,
              "#000017"
             ],
             [
              0.7777777777777778,
              "#000018"
             ],
             [
              0.8888888888888888,
              "#000019"
             ],
             [
              1,
              "#000020"
             ]
            ],
            "type": "contour"
           }
          ],
          "contourcarpet": [
           {
            "colorscale": [
             [
              0,
              "#000011"
             ],
             [
              0.1111111111111111,
              "#000012"
             ],
             [
              0.2222222222222222,
              "#000013"
             ],
             [
              0.3333333333333333,
              "#000014"
             ],
             [
              0.4444444444444444,
              "#000015"
             ],
             [
              0.5555555555555556,
              "#000016"
             ],
             [
              0.6666666666666666,
              "#000017"
             ],
             [
              0.7777777777777778,
              "#000018"
             ],
             [
              0.8888888888888888,
              "#000019"
             ],
             [
              1,
              "#000020"
             ]
            ],
            "type": "contourcarpet"
           }
          ],
          "heatmap": [
           {
            "colorscale": [
             [
              0,
              "#000011"
             ],
             [
              0.1111111111111111,
              "#000012"
             ],
             [
              0.2222222222222222,
              "#000013"
             ],
             [
              0.3333333333333333,
              "#000014"
             ],
             [
              0.4444444444444444,
              "#000015"
             ],
             [
              0.5555555555555556,
              "#000016"
             ],
             [
              0.6666666666666666,
              "#000017"
             ],
             [
              0.7777777777777778,
              "#000018"
             ],
             [
              0.8888888888888888,
              "#000019"
             ],
             [
              1,
              "#000020"
             ]
            ],
            "type": "heatmap"
           }
          ],
          "histogram2d": [
           {
            "colorscale": [
             [
              0,
              "#000011"
             ],
             [
              0.1111111111111111,
              "#000012"
             ],
             [
              0.2222222222222222,
              "#000013"
             ],
             [
              0.3333333333333333,
              "#000014"
             ],
             [
              0.4444444444444444,
              "#000015"
             ],
             [
              0.5555555555555556,
              "#000016"
             ],
             [
              0.6666666666666666,
              "#000017"
             ],
             [
              0.7777777777777778,
              "#000018"
             ],
             [
              0.8888888888888888,
              "#000019"
             ],
             [
              1,
              "#000020"
             ]
            ],
            "type": "histogram2d"
           }
          ],
          "icicle": [
           {
            "textfont": {
             "color": "white"
            },
            "type": "icicle"
           }
          ],
          "sankey": [
           {
            "textfont": {
             "color": "#000036"
            },
            "type": "sankey"
           }
          ],
          "scatter": [
           {
            "marker": {
             "line": {
              "width": 0
             }
            },
            "type": "scatter"
           }
          ],
          "table": [
           {
            "cells": {
             "fill": {
              "color": "#000038"
             },
             "font": {
              "color": "#000037"
             },
             "line": {
              "color": "#000039"
             }
            },
            "header": {
             "fill": {
              "color": "#000040"
             },
             "font": {
              "color": "#000036"
             },
             "line": {
              "color": "#000039"
             }
            },
            "type": "table"
           }
          ],
          "waterfall": [
           {
            "connector": {
             "line": {
              "color": "#000036",
              "width": 2
             }
            },
            "decreasing": {
             "marker": {
              "color": "#000033"
             }
            },
            "increasing": {
             "marker": {
              "color": "#000032"
             }
            },
            "totals": {
             "marker": {
              "color": "#000034"
             }
            },
            "type": "waterfall"
           }
          ]
         },
         "layout": {
          "coloraxis": {
           "colorscale": [
            [
             0,
             "#000011"
            ],
            [
             0.1111111111111111,
             "#000012"
            ],
            [
             0.2222222222222222,
             "#000013"
            ],
            [
             0.3333333333333333,
             "#000014"
            ],
            [
             0.4444444444444444,
             "#000015"
            ],
            [
             0.5555555555555556,
             "#000016"
            ],
            [
             0.6666666666666666,
             "#000017"
            ],
            [
             0.7777777777777778,
             "#000018"
            ],
            [
             0.8888888888888888,
             "#000019"
            ],
            [
             1,
             "#000020"
            ]
           ]
          },
          "colorscale": {
           "diverging": [
            [
             0,
             "#000021"
            ],
            [
             0.1,
             "#000022"
            ],
            [
             0.2,
             "#000023"
            ],
            [
             0.3,
             "#000024"
            ],
            [
             0.4,
             "#000025"
            ],
            [
             0.5,
             "#000026"
            ],
            [
             0.6,
             "#000027"
            ],
            [
             0.7,
             "#000028"
            ],
            [
             0.8,
             "#000029"
            ],
            [
             0.9,
             "#000030"
            ],
            [
             1,
             "#000031"
            ]
           ],
           "sequential": [
            [
             0,
             "#000011"
            ],
            [
             0.1111111111111111,
             "#000012"
            ],
            [
             0.2222222222222222,
             "#000013"
            ],
            [
             0.3333333333333333,
             "#000014"
            ],
            [
             0.4444444444444444,
             "#000015"
            ],
            [
             0.5555555555555556,
             "#000016"
            ],
            [
             0.6666666666666666,
             "#000017"
            ],
            [
             0.7777777777777778,
             "#000018"
            ],
            [
             0.8888888888888888,
             "#000019"
            ],
            [
             1,
             "#000020"
            ]
           ],
           "sequentialminus": [
            [
             0,
             "#000011"
            ],
            [
             0.1111111111111111,
             "#000012"
            ],
            [
             0.2222222222222222,
             "#000013"
            ],
            [
             0.3333333333333333,
             "#000014"
            ],
            [
             0.4444444444444444,
             "#000015"
            ],
            [
             0.5555555555555556,
             "#000016"
            ],
            [
             0.6666666666666666,
             "#000017"
            ],
            [
             0.7777777777777778,
             "#000018"
            ],
            [
             0.8888888888888888,
             "#000019"
            ],
            [
             1,
             "#000020"
            ]
           ]
          },
          "colorway": [
           "#000001",
           "#000002",
           "#000003",
           "#000004",
           "#000005",
           "#000006",
           "#000007",
           "#000008",
           "#000009",
           "#000010"
          ]
         }
        },
        "title": {
         "text": "Telemindex 2024: Precios medios horarios de indexado según tarifas de acceso"
        },
        "width": 800,
        "xaxis": {
         "anchor": "y",
         "domain": [
          0,
          1
         ],
         "title": {
          "text": "hora"
         }
        },
        "yaxis": {
         "anchor": "x",
         "domain": [
          0,
          1
         ],
         "title": {
          "text": "€/MWh"
         }
        }
       }
      }
     },
     "metadata": {},
     "output_type": "display_data"
    }
   ],
   "source": [
    "graf_pt1=px.line(pt1,x='hora',y=['precio_2.0','precio_3.0','precio_6.1'],\n",
    "    height=600,\n",
    "    width=800,\n",
    "    title=\"Telemindex 2024: Precios medios horarios de indexado según tarifas de acceso\",\n",
    "    labels={'value':'€/MWh','variable':'Precios s/ ATR'},\n",
    "    color_discrete_map=colores_precios,\n",
    ")\n",
    "graf_pt1.update_traces(line=dict(width=4))\n",
    "graf_pt1"
   ]
  },
  {
   "cell_type": "code",
   "execution_count": 70,
   "metadata": {},
   "outputs": [
    {
     "data": {
      "application/vnd.plotly.v1+json": {
       "config": {
        "plotlyServerURL": "https://plot.ly"
       },
       "data": [
        {
         "hovertemplate": "Precios s/ ATR=precio_2.0<br>hora=%{x}<br>€/MWh=%{y}<extra></extra>",
         "legendgroup": "precio_2.0",
         "line": {
          "color": "goldenrod",
          "dash": "solid",
          "width": 4
         },
         "marker": {
          "symbol": "circle"
         },
         "mode": "lines",
         "name": "precio_2.0",
         "orientation": "v",
         "showlegend": true,
         "type": "scatter",
         "x": [
          0,
          1,
          2,
          3,
          4,
          5,
          6,
          7,
          8,
          9,
          10,
          11,
          12,
          13,
          14,
          15,
          16,
          17,
          18,
          19,
          20,
          21,
          22,
          23
         ],
         "xaxis": "x",
         "y": [
          66.14692841706974,
          62.51391023604058,
          61.339655284461244,
          61.31972859136851,
          60.69874346058189,
          62.455246619377924,
          67.87600647325627,
          81.19743818210821,
          98.89765176762305,
          81.76733611546685,
          102.78644893074541,
          96.38180053982072,
          94.82587228154871,
          93.45184834040109,
          57.39801278755372,
          58.08553401452406,
          61.770197218349686,
          70.42987394844201,
          116.2570238168951,
          135.21957552941345,
          150.43162634324617,
          149.9137989784483,
          104.00274735685747,
          94.03891989221216
         ],
         "yaxis": "y"
        },
        {
         "hovertemplate": "Precios s/ ATR=precio_3.0<br>hora=%{x}<br>€/MWh=%{y}<extra></extra>",
         "legendgroup": "precio_3.0",
         "line": {
          "color": "darkred",
          "dash": "solid",
          "width": 4
         },
         "marker": {
          "symbol": "circle"
         },
         "mode": "lines",
         "name": "precio_3.0",
         "orientation": "v",
         "showlegend": true,
         "type": "scatter",
         "x": [
          0,
          1,
          2,
          3,
          4,
          5,
          6,
          7,
          8,
          9,
          10,
          11,
          12,
          13,
          14,
          15,
          16,
          17,
          18,
          19,
          20,
          21,
          22,
          23
         ],
         "xaxis": "x",
         "y": [
          65.58692841706976,
          61.953910236040585,
          60.77965528446124,
          60.759728591368514,
          60.13874346058188,
          61.895246619377914,
          67.31600647325625,
          80.63743818210821,
          90.81518023317126,
          82.53126851601982,
          68.21919242383031,
          61.815592999449976,
          60.26063298566603,
          58.88821413534829,
          49.47095725350235,
          50.17382485809216,
          53.87385878427321,
          62.57568545054584,
          81.70600993603183,
          100.68552651184521,
          115.89211574411259,
          115.35291454223018,
          95.80589040882293,
          85.88795497481152
         ],
         "yaxis": "y"
        },
        {
         "hovertemplate": "Precios s/ ATR=precio_6.1<br>hora=%{x}<br>€/MWh=%{y}<extra></extra>",
         "legendgroup": "precio_6.1",
         "line": {
          "color": "blue",
          "dash": "solid",
          "width": 4
         },
         "marker": {
          "symbol": "circle"
         },
         "mode": "lines",
         "name": "precio_6.1",
         "orientation": "v",
         "showlegend": true,
         "type": "scatter",
         "x": [
          0,
          1,
          2,
          3,
          4,
          5,
          6,
          7,
          8,
          9,
          10,
          11,
          12,
          13,
          14,
          15,
          16,
          17,
          18,
          19,
          20,
          21,
          22,
          23
         ],
         "xaxis": "x",
         "y": [
          58.332306207801736,
          54.89826195928981,
          53.753867503630644,
          53.70096728334906,
          53.15100385938698,
          54.804226379288785,
          59.98345405938474,
          72.38710579598205,
          79.15596508924655,
          70.89317155721643,
          58.00052846076094,
          52.167175078603435,
          50.78274803269551,
          49.57431442441479,
          42.10618841839469,
          42.622806562582774,
          45.85210460442983,
          53.58310329156745,
          69.87768533063385,
          87.05567457836511,
          100.85276058328913,
          100.41540561418452,
          83.37721283386377,
          74.30357717586077
         ],
         "yaxis": "y"
        },
        {
         "marker": {
          "color": "green"
         },
         "name": "spot",
         "type": "bar",
         "width": 0.5,
         "y": [
          41.76118343195267,
          37.34958579881657,
          35.18244047619047,
          33.92857988165681,
          33.152307692307694,
          34.95917159763314,
          40.025502958579885,
          50.220177514792894,
          48.45781065088757,
          37.06372781065089,
          29.056272189349112,
          24.159763313609467,
          22.423905325443787,
          20.84360946745562,
          20.190828402366865,
          20.058579881656804,
          22.151479289940827,
          27.81414201183432,
          36.06491124260355,
          48.481656804733724,
          60.71804733727811,
          63.20414201183432,
          54.88769230769231,
          46.096390532544376
         ]
        }
       ],
       "layout": {
        "height": 600,
        "legend": {
         "title": {
          "text": "Precios s/ ATR"
         },
         "tracegroupgap": 0
        },
        "template": {
         "data": {
          "candlestick": [
           {
            "decreasing": {
             "line": {
              "color": "#000033"
             }
            },
            "increasing": {
             "line": {
              "color": "#000032"
             }
            },
            "type": "candlestick"
           }
          ],
          "contour": [
           {
            "colorscale": [
             [
              0,
              "#000011"
             ],
             [
              0.1111111111111111,
              "#000012"
             ],
             [
              0.2222222222222222,
              "#000013"
             ],
             [
              0.3333333333333333,
              "#000014"
             ],
             [
              0.4444444444444444,
              "#000015"
             ],
             [
              0.5555555555555556,
              "#000016"
             ],
             [
              0.6666666666666666,
              "#000017"
             ],
             [
              0.7777777777777778,
              "#000018"
             ],
             [
              0.8888888888888888,
              "#000019"
             ],
             [
              1,
              "#000020"
             ]
            ],
            "type": "contour"
           }
          ],
          "contourcarpet": [
           {
            "colorscale": [
             [
              0,
              "#000011"
             ],
             [
              0.1111111111111111,
              "#000012"
             ],
             [
              0.2222222222222222,
              "#000013"
             ],
             [
              0.3333333333333333,
              "#000014"
             ],
             [
              0.4444444444444444,
              "#000015"
             ],
             [
              0.5555555555555556,
              "#000016"
             ],
             [
              0.6666666666666666,
              "#000017"
             ],
             [
              0.7777777777777778,
              "#000018"
             ],
             [
              0.8888888888888888,
              "#000019"
             ],
             [
              1,
              "#000020"
             ]
            ],
            "type": "contourcarpet"
           }
          ],
          "heatmap": [
           {
            "colorscale": [
             [
              0,
              "#000011"
             ],
             [
              0.1111111111111111,
              "#000012"
             ],
             [
              0.2222222222222222,
              "#000013"
             ],
             [
              0.3333333333333333,
              "#000014"
             ],
             [
              0.4444444444444444,
              "#000015"
             ],
             [
              0.5555555555555556,
              "#000016"
             ],
             [
              0.6666666666666666,
              "#000017"
             ],
             [
              0.7777777777777778,
              "#000018"
             ],
             [
              0.8888888888888888,
              "#000019"
             ],
             [
              1,
              "#000020"
             ]
            ],
            "type": "heatmap"
           }
          ],
          "histogram2d": [
           {
            "colorscale": [
             [
              0,
              "#000011"
             ],
             [
              0.1111111111111111,
              "#000012"
             ],
             [
              0.2222222222222222,
              "#000013"
             ],
             [
              0.3333333333333333,
              "#000014"
             ],
             [
              0.4444444444444444,
              "#000015"
             ],
             [
              0.5555555555555556,
              "#000016"
             ],
             [
              0.6666666666666666,
              "#000017"
             ],
             [
              0.7777777777777778,
              "#000018"
             ],
             [
              0.8888888888888888,
              "#000019"
             ],
             [
              1,
              "#000020"
             ]
            ],
            "type": "histogram2d"
           }
          ],
          "icicle": [
           {
            "textfont": {
             "color": "white"
            },
            "type": "icicle"
           }
          ],
          "sankey": [
           {
            "textfont": {
             "color": "#000036"
            },
            "type": "sankey"
           }
          ],
          "scatter": [
           {
            "marker": {
             "line": {
              "width": 0
             }
            },
            "type": "scatter"
           }
          ],
          "table": [
           {
            "cells": {
             "fill": {
              "color": "#000038"
             },
             "font": {
              "color": "#000037"
             },
             "line": {
              "color": "#000039"
             }
            },
            "header": {
             "fill": {
              "color": "#000040"
             },
             "font": {
              "color": "#000036"
             },
             "line": {
              "color": "#000039"
             }
            },
            "type": "table"
           }
          ],
          "waterfall": [
           {
            "connector": {
             "line": {
              "color": "#000036",
              "width": 2
             }
            },
            "decreasing": {
             "marker": {
              "color": "#000033"
             }
            },
            "increasing": {
             "marker": {
              "color": "#000032"
             }
            },
            "totals": {
             "marker": {
              "color": "#000034"
             }
            },
            "type": "waterfall"
           }
          ]
         },
         "layout": {
          "coloraxis": {
           "colorscale": [
            [
             0,
             "#000011"
            ],
            [
             0.1111111111111111,
             "#000012"
            ],
            [
             0.2222222222222222,
             "#000013"
            ],
            [
             0.3333333333333333,
             "#000014"
            ],
            [
             0.4444444444444444,
             "#000015"
            ],
            [
             0.5555555555555556,
             "#000016"
            ],
            [
             0.6666666666666666,
             "#000017"
            ],
            [
             0.7777777777777778,
             "#000018"
            ],
            [
             0.8888888888888888,
             "#000019"
            ],
            [
             1,
             "#000020"
            ]
           ]
          },
          "colorscale": {
           "diverging": [
            [
             0,
             "#000021"
            ],
            [
             0.1,
             "#000022"
            ],
            [
             0.2,
             "#000023"
            ],
            [
             0.3,
             "#000024"
            ],
            [
             0.4,
             "#000025"
            ],
            [
             0.5,
             "#000026"
            ],
            [
             0.6,
             "#000027"
            ],
            [
             0.7,
             "#000028"
            ],
            [
             0.8,
             "#000029"
            ],
            [
             0.9,
             "#000030"
            ],
            [
             1,
             "#000031"
            ]
           ],
           "sequential": [
            [
             0,
             "#000011"
            ],
            [
             0.1111111111111111,
             "#000012"
            ],
            [
             0.2222222222222222,
             "#000013"
            ],
            [
             0.3333333333333333,
             "#000014"
            ],
            [
             0.4444444444444444,
             "#000015"
            ],
            [
             0.5555555555555556,
             "#000016"
            ],
            [
             0.6666666666666666,
             "#000017"
            ],
            [
             0.7777777777777778,
             "#000018"
            ],
            [
             0.8888888888888888,
             "#000019"
            ],
            [
             1,
             "#000020"
            ]
           ],
           "sequentialminus": [
            [
             0,
             "#000011"
            ],
            [
             0.1111111111111111,
             "#000012"
            ],
            [
             0.2222222222222222,
             "#000013"
            ],
            [
             0.3333333333333333,
             "#000014"
            ],
            [
             0.4444444444444444,
             "#000015"
            ],
            [
             0.5555555555555556,
             "#000016"
            ],
            [
             0.6666666666666666,
             "#000017"
            ],
            [
             0.7777777777777778,
             "#000018"
            ],
            [
             0.8888888888888888,
             "#000019"
            ],
            [
             1,
             "#000020"
            ]
           ]
          },
          "colorway": [
           "#000001",
           "#000002",
           "#000003",
           "#000004",
           "#000005",
           "#000006",
           "#000007",
           "#000008",
           "#000009",
           "#000010"
          ]
         }
        },
        "title": {
         "font": {
          "size": 24
         },
         "text": "Telemindex 2024: Precios medios horarios de indexado según tarifas de acceso"
        },
        "width": 800,
        "xaxis": {
         "anchor": "y",
         "domain": [
          0,
          1
         ],
         "title": {
          "text": "hora"
         }
        },
        "yaxis": {
         "anchor": "x",
         "domain": [
          0,
          1
         ],
         "title": {
          "text": "€/MWh"
         }
        }
       }
      }
     },
     "metadata": {},
     "output_type": "display_data"
    }
   ],
   "source": [
    "graf_pt1=graf_pt1.add_bar(y=pt1['spot'], name='spot', marker_color='green', width=0.5)\n",
    "graf_pt1.update_layout(\n",
    "    \n",
    "    title_font_size=24,\n",
    "    )\n",
    "\n",
    "graf_pt1"
   ]
  },
  {
   "cell_type": "code",
   "execution_count": 64,
   "metadata": {},
   "outputs": [],
   "source": [
    "### Vamos a añadir un texto debajo del título"
   ]
  },
  {
   "cell_type": "code",
   "execution_count": 66,
   "metadata": {},
   "outputs": [
    {
     "data": {
      "text/plain": [
       "'Último día registrado: 17-06-2024'"
      ]
     },
     "execution_count": 66,
     "metadata": {},
     "output_type": "execute_result"
    }
   ],
   "source": [
    "texto = f'Último día registrado: {max_reg}'\n",
    "texto"
   ]
  },
  {
   "cell_type": "code",
   "execution_count": 71,
   "metadata": {},
   "outputs": [
    {
     "data": {
      "application/vnd.plotly.v1+json": {
       "config": {
        "plotlyServerURL": "https://plot.ly"
       },
       "data": [
        {
         "hovertemplate": "Precios s/ ATR=precio_2.0<br>hora=%{x}<br>€/MWh=%{y}<extra></extra>",
         "legendgroup": "precio_2.0",
         "line": {
          "color": "goldenrod",
          "dash": "solid",
          "width": 4
         },
         "marker": {
          "symbol": "circle"
         },
         "mode": "lines",
         "name": "precio_2.0",
         "orientation": "v",
         "showlegend": true,
         "type": "scatter",
         "x": [
          0,
          1,
          2,
          3,
          4,
          5,
          6,
          7,
          8,
          9,
          10,
          11,
          12,
          13,
          14,
          15,
          16,
          17,
          18,
          19,
          20,
          21,
          22,
          23
         ],
         "xaxis": "x",
         "y": [
          66.14692841706974,
          62.51391023604058,
          61.339655284461244,
          61.31972859136851,
          60.69874346058189,
          62.455246619377924,
          67.87600647325627,
          81.19743818210821,
          98.89765176762305,
          81.76733611546685,
          102.78644893074541,
          96.38180053982072,
          94.82587228154871,
          93.45184834040109,
          57.39801278755372,
          58.08553401452406,
          61.770197218349686,
          70.42987394844201,
          116.2570238168951,
          135.21957552941345,
          150.43162634324617,
          149.9137989784483,
          104.00274735685747,
          94.03891989221216
         ],
         "yaxis": "y"
        },
        {
         "hovertemplate": "Precios s/ ATR=precio_3.0<br>hora=%{x}<br>€/MWh=%{y}<extra></extra>",
         "legendgroup": "precio_3.0",
         "line": {
          "color": "darkred",
          "dash": "solid",
          "width": 4
         },
         "marker": {
          "symbol": "circle"
         },
         "mode": "lines",
         "name": "precio_3.0",
         "orientation": "v",
         "showlegend": true,
         "type": "scatter",
         "x": [
          0,
          1,
          2,
          3,
          4,
          5,
          6,
          7,
          8,
          9,
          10,
          11,
          12,
          13,
          14,
          15,
          16,
          17,
          18,
          19,
          20,
          21,
          22,
          23
         ],
         "xaxis": "x",
         "y": [
          65.58692841706976,
          61.953910236040585,
          60.77965528446124,
          60.759728591368514,
          60.13874346058188,
          61.895246619377914,
          67.31600647325625,
          80.63743818210821,
          90.81518023317126,
          82.53126851601982,
          68.21919242383031,
          61.815592999449976,
          60.26063298566603,
          58.88821413534829,
          49.47095725350235,
          50.17382485809216,
          53.87385878427321,
          62.57568545054584,
          81.70600993603183,
          100.68552651184521,
          115.89211574411259,
          115.35291454223018,
          95.80589040882293,
          85.88795497481152
         ],
         "yaxis": "y"
        },
        {
         "hovertemplate": "Precios s/ ATR=precio_6.1<br>hora=%{x}<br>€/MWh=%{y}<extra></extra>",
         "legendgroup": "precio_6.1",
         "line": {
          "color": "blue",
          "dash": "solid",
          "width": 4
         },
         "marker": {
          "symbol": "circle"
         },
         "mode": "lines",
         "name": "precio_6.1",
         "orientation": "v",
         "showlegend": true,
         "type": "scatter",
         "x": [
          0,
          1,
          2,
          3,
          4,
          5,
          6,
          7,
          8,
          9,
          10,
          11,
          12,
          13,
          14,
          15,
          16,
          17,
          18,
          19,
          20,
          21,
          22,
          23
         ],
         "xaxis": "x",
         "y": [
          58.332306207801736,
          54.89826195928981,
          53.753867503630644,
          53.70096728334906,
          53.15100385938698,
          54.804226379288785,
          59.98345405938474,
          72.38710579598205,
          79.15596508924655,
          70.89317155721643,
          58.00052846076094,
          52.167175078603435,
          50.78274803269551,
          49.57431442441479,
          42.10618841839469,
          42.622806562582774,
          45.85210460442983,
          53.58310329156745,
          69.87768533063385,
          87.05567457836511,
          100.85276058328913,
          100.41540561418452,
          83.37721283386377,
          74.30357717586077
         ],
         "yaxis": "y"
        },
        {
         "marker": {
          "color": "green"
         },
         "name": "spot",
         "type": "bar",
         "width": 0.5,
         "y": [
          41.76118343195267,
          37.34958579881657,
          35.18244047619047,
          33.92857988165681,
          33.152307692307694,
          34.95917159763314,
          40.025502958579885,
          50.220177514792894,
          48.45781065088757,
          37.06372781065089,
          29.056272189349112,
          24.159763313609467,
          22.423905325443787,
          20.84360946745562,
          20.190828402366865,
          20.058579881656804,
          22.151479289940827,
          27.81414201183432,
          36.06491124260355,
          48.481656804733724,
          60.71804733727811,
          63.20414201183432,
          54.88769230769231,
          46.096390532544376
         ]
        }
       ],
       "layout": {
        "annotations": [
         {
          "font": {
           "size": 12
          },
          "showarrow": false,
          "text": "Último día registrado: 17-06-2024",
          "x": 0.5,
          "xref": "paper",
          "y": 1.05,
          "yref": "paper"
         }
        ],
        "height": 600,
        "legend": {
         "title": {
          "text": "Precios s/ ATR"
         },
         "tracegroupgap": 0
        },
        "margin": {
         "t": 100
        },
        "template": {
         "data": {
          "candlestick": [
           {
            "decreasing": {
             "line": {
              "color": "#000033"
             }
            },
            "increasing": {
             "line": {
              "color": "#000032"
             }
            },
            "type": "candlestick"
           }
          ],
          "contour": [
           {
            "colorscale": [
             [
              0,
              "#000011"
             ],
             [
              0.1111111111111111,
              "#000012"
             ],
             [
              0.2222222222222222,
              "#000013"
             ],
             [
              0.3333333333333333,
              "#000014"
             ],
             [
              0.4444444444444444,
              "#000015"
             ],
             [
              0.5555555555555556,
              "#000016"
             ],
             [
              0.6666666666666666,
              "#000017"
             ],
             [
              0.7777777777777778,
              "#000018"
             ],
             [
              0.8888888888888888,
              "#000019"
             ],
             [
              1,
              "#000020"
             ]
            ],
            "type": "contour"
           }
          ],
          "contourcarpet": [
           {
            "colorscale": [
             [
              0,
              "#000011"
             ],
             [
              0.1111111111111111,
              "#000012"
             ],
             [
              0.2222222222222222,
              "#000013"
             ],
             [
              0.3333333333333333,
              "#000014"
             ],
             [
              0.4444444444444444,
              "#000015"
             ],
             [
              0.5555555555555556,
              "#000016"
             ],
             [
              0.6666666666666666,
              "#000017"
             ],
             [
              0.7777777777777778,
              "#000018"
             ],
             [
              0.8888888888888888,
              "#000019"
             ],
             [
              1,
              "#000020"
             ]
            ],
            "type": "contourcarpet"
           }
          ],
          "heatmap": [
           {
            "colorscale": [
             [
              0,
              "#000011"
             ],
             [
              0.1111111111111111,
              "#000012"
             ],
             [
              0.2222222222222222,
              "#000013"
             ],
             [
              0.3333333333333333,
              "#000014"
             ],
             [
              0.4444444444444444,
              "#000015"
             ],
             [
              0.5555555555555556,
              "#000016"
             ],
             [
              0.6666666666666666,
              "#000017"
             ],
             [
              0.7777777777777778,
              "#000018"
             ],
             [
              0.8888888888888888,
              "#000019"
             ],
             [
              1,
              "#000020"
             ]
            ],
            "type": "heatmap"
           }
          ],
          "histogram2d": [
           {
            "colorscale": [
             [
              0,
              "#000011"
             ],
             [
              0.1111111111111111,
              "#000012"
             ],
             [
              0.2222222222222222,
              "#000013"
             ],
             [
              0.3333333333333333,
              "#000014"
             ],
             [
              0.4444444444444444,
              "#000015"
             ],
             [
              0.5555555555555556,
              "#000016"
             ],
             [
              0.6666666666666666,
              "#000017"
             ],
             [
              0.7777777777777778,
              "#000018"
             ],
             [
              0.8888888888888888,
              "#000019"
             ],
             [
              1,
              "#000020"
             ]
            ],
            "type": "histogram2d"
           }
          ],
          "icicle": [
           {
            "textfont": {
             "color": "white"
            },
            "type": "icicle"
           }
          ],
          "sankey": [
           {
            "textfont": {
             "color": "#000036"
            },
            "type": "sankey"
           }
          ],
          "scatter": [
           {
            "marker": {
             "line": {
              "width": 0
             }
            },
            "type": "scatter"
           }
          ],
          "table": [
           {
            "cells": {
             "fill": {
              "color": "#000038"
             },
             "font": {
              "color": "#000037"
             },
             "line": {
              "color": "#000039"
             }
            },
            "header": {
             "fill": {
              "color": "#000040"
             },
             "font": {
              "color": "#000036"
             },
             "line": {
              "color": "#000039"
             }
            },
            "type": "table"
           }
          ],
          "waterfall": [
           {
            "connector": {
             "line": {
              "color": "#000036",
              "width": 2
             }
            },
            "decreasing": {
             "marker": {
              "color": "#000033"
             }
            },
            "increasing": {
             "marker": {
              "color": "#000032"
             }
            },
            "totals": {
             "marker": {
              "color": "#000034"
             }
            },
            "type": "waterfall"
           }
          ]
         },
         "layout": {
          "coloraxis": {
           "colorscale": [
            [
             0,
             "#000011"
            ],
            [
             0.1111111111111111,
             "#000012"
            ],
            [
             0.2222222222222222,
             "#000013"
            ],
            [
             0.3333333333333333,
             "#000014"
            ],
            [
             0.4444444444444444,
             "#000015"
            ],
            [
             0.5555555555555556,
             "#000016"
            ],
            [
             0.6666666666666666,
             "#000017"
            ],
            [
             0.7777777777777778,
             "#000018"
            ],
            [
             0.8888888888888888,
             "#000019"
            ],
            [
             1,
             "#000020"
            ]
           ]
          },
          "colorscale": {
           "diverging": [
            [
             0,
             "#000021"
            ],
            [
             0.1,
             "#000022"
            ],
            [
             0.2,
             "#000023"
            ],
            [
             0.3,
             "#000024"
            ],
            [
             0.4,
             "#000025"
            ],
            [
             0.5,
             "#000026"
            ],
            [
             0.6,
             "#000027"
            ],
            [
             0.7,
             "#000028"
            ],
            [
             0.8,
             "#000029"
            ],
            [
             0.9,
             "#000030"
            ],
            [
             1,
             "#000031"
            ]
           ],
           "sequential": [
            [
             0,
             "#000011"
            ],
            [
             0.1111111111111111,
             "#000012"
            ],
            [
             0.2222222222222222,
             "#000013"
            ],
            [
             0.3333333333333333,
             "#000014"
            ],
            [
             0.4444444444444444,
             "#000015"
            ],
            [
             0.5555555555555556,
             "#000016"
            ],
            [
             0.6666666666666666,
             "#000017"
            ],
            [
             0.7777777777777778,
             "#000018"
            ],
            [
             0.8888888888888888,
             "#000019"
            ],
            [
             1,
             "#000020"
            ]
           ],
           "sequentialminus": [
            [
             0,
             "#000011"
            ],
            [
             0.1111111111111111,
             "#000012"
            ],
            [
             0.2222222222222222,
             "#000013"
            ],
            [
             0.3333333333333333,
             "#000014"
            ],
            [
             0.4444444444444444,
             "#000015"
            ],
            [
             0.5555555555555556,
             "#000016"
            ],
            [
             0.6666666666666666,
             "#000017"
            ],
            [
             0.7777777777777778,
             "#000018"
            ],
            [
             0.8888888888888888,
             "#000019"
            ],
            [
             1,
             "#000020"
            ]
           ]
          },
          "colorway": [
           "#000001",
           "#000002",
           "#000003",
           "#000004",
           "#000005",
           "#000006",
           "#000007",
           "#000008",
           "#000009",
           "#000010"
          ]
         }
        },
        "title": {
         "font": {
          "size": 24
         },
         "text": "Telemindex 2024: Precios medios horarios de indexado según tarifas de acceso"
        },
        "width": 800,
        "xaxis": {
         "anchor": "y",
         "domain": [
          0,
          1
         ],
         "title": {
          "text": "hora"
         }
        },
        "yaxis": {
         "anchor": "x",
         "domain": [
          0,
          1
         ],
         "title": {
          "text": "€/MWh"
         }
        }
       }
      }
     },
     "metadata": {},
     "output_type": "display_data"
    }
   ],
   "source": [
    "graf_pt1.add_annotation(\n",
    "    dict(\n",
    "        font=dict(size=12),\n",
    "        x=0.5,\n",
    "        y=1.05,\n",
    "        showarrow=False,\n",
    "        text=texto,\n",
    "        xref=\"paper\",\n",
    "        yref=\"paper\"\n",
    "    )\n",
    ")\n",
    "\n",
    "# Actualizar el margen superior del gráfico para evitar superposición\n",
    "graf_pt1.update_layout(margin=dict(t=100))"
   ]
  },
  {
   "cell_type": "code",
   "execution_count": null,
   "metadata": {},
   "outputs": [],
   "source": []
  }
 ],
 "metadata": {
  "kernelspec": {
   "display_name": "Python 3 (ipykernel)",
   "language": "python",
   "name": "python3"
  },
  "language_info": {
   "codemirror_mode": {
    "name": "ipython",
    "version": 3
   },
   "file_extension": ".py",
   "mimetype": "text/x-python",
   "name": "python",
   "nbconvert_exporter": "python",
   "pygments_lexer": "ipython3",
   "version": "3.11.4"
  }
 },
 "nbformat": 4,
 "nbformat_minor": 2
}
